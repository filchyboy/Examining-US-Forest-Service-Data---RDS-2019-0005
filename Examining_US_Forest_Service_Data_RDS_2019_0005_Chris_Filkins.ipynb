{
  "nbformat": 4,
  "nbformat_minor": 0,
  "metadata": {
    "colab": {
      "name": "Examining US Forest Service Data - RDS-2019-0005 - Chris Filkins",
      "provenance": [],
      "collapsed_sections": [],
      "include_colab_link": true
    },
    "kernelspec": {
      "name": "python3",
      "display_name": "Python 3"
    }
  },
  "cells": [
    {
      "cell_type": "markdown",
      "metadata": {
        "id": "view-in-github",
        "colab_type": "text"
      },
      "source": [
        "<a href=\"https://colab.research.google.com/github/filchyboy/Examining-US-Forest-Service-Data---RDS-2019-0005/blob/master/Examining_US_Forest_Service_Data_RDS_2019_0005_Chris_Filkins.ipynb\" target=\"_parent\"><img src=\"https://colab.research.google.com/assets/colab-badge.svg\" alt=\"Open In Colab\"/></a>"
      ]
    },
    {
      "cell_type": "markdown",
      "metadata": {
        "id": "iAJq23D7RXUU",
        "colab_type": "text"
      },
      "source": [
        "#Analyzing US Forest Service Field Studies\n",
        "![Black Mountain Fire](https://raw.githubusercontent.com/filchyboy/Examining-US-Forest-Service-Data---RDS-2019-0005/master/130611-F-CL000-001.jpeg)\n",
        "\n",
        "Normalized Burn Ratio is an index system to measure burn severity after a wildfire. It describes how fire intensity affects the functioning of the ecosystem in the area that has been burnt. Satellite images are taken of landscapes just prior to wildfires and then taken again after on a yearly basis. The difference in light reflection between both near infrared (NIR) and shortwave infrared (SWIR) wavelengths reflect the state of the pre & post burn ecosystem. Healthy vegetation shows a high reflectance in NIR, and low reflectance in SWIR portions of the spectrum - the opposite of what is seen in areas devastated by fire."
      ]
    },
    {
      "cell_type": "markdown",
      "metadata": {
        "id": "33NJwzd0ykch",
        "colab_type": "text"
      },
      "source": [
        "##Workbook Constraints & Tools"
      ]
    },
    {
      "cell_type": "markdown",
      "metadata": {
        "id": "cr7u542Q4tZZ",
        "colab_type": "text"
      },
      "source": [
        "Importing libraries and modules to be used in parsing this notebook."
      ]
    },
    {
      "cell_type": "code",
      "metadata": {
        "id": "HHxaHnG9yU99",
        "colab_type": "code",
        "outputId": "4dfc001c-5738-4df4-d0c3-bb5b7a8bd499",
        "colab": {
          "base_uri": "https://localhost:8080/",
          "height": 802
        }
      },
      "source": [
        "!pip install --upgrade geopandas\n",
        "!pip install --upgrade pyshp\n",
        "!pip install --upgrade shapely\n",
        "!pip install --upgrade descartes"
      ],
      "execution_count": 1,
      "outputs": [
        {
          "output_type": "stream",
          "text": [
            "Collecting geopandas\n",
            "\u001b[?25l  Downloading https://files.pythonhosted.org/packages/5b/0c/e6c99e561b03482220f00443f610ccf4dce9b50f4b1093d735f93c6fc8c6/geopandas-0.6.2-py2.py3-none-any.whl (919kB)\n",
            "\r\u001b[K     |▍                               | 10kB 17.9MB/s eta 0:00:01\r\u001b[K     |▊                               | 20kB 1.7MB/s eta 0:00:01\r\u001b[K     |█                               | 30kB 2.5MB/s eta 0:00:01\r\u001b[K     |█▍                              | 40kB 1.7MB/s eta 0:00:01\r\u001b[K     |█▉                              | 51kB 2.1MB/s eta 0:00:01\r\u001b[K     |██▏                             | 61kB 2.5MB/s eta 0:00:01\r\u001b[K     |██▌                             | 71kB 2.9MB/s eta 0:00:01\r\u001b[K     |██▉                             | 81kB 3.3MB/s eta 0:00:01\r\u001b[K     |███▏                            | 92kB 3.6MB/s eta 0:00:01\r\u001b[K     |███▋                            | 102kB 2.8MB/s eta 0:00:01\r\u001b[K     |████                            | 112kB 2.8MB/s eta 0:00:01\r\u001b[K     |████▎                           | 122kB 2.8MB/s eta 0:00:01\r\u001b[K     |████▋                           | 133kB 2.8MB/s eta 0:00:01\r\u001b[K     |█████                           | 143kB 2.8MB/s eta 0:00:01\r\u001b[K     |█████▍                          | 153kB 2.8MB/s eta 0:00:01\r\u001b[K     |█████▊                          | 163kB 2.8MB/s eta 0:00:01\r\u001b[K     |██████                          | 174kB 2.8MB/s eta 0:00:01\r\u001b[K     |██████▍                         | 184kB 2.8MB/s eta 0:00:01\r\u001b[K     |██████▊                         | 194kB 2.8MB/s eta 0:00:01\r\u001b[K     |███████▏                        | 204kB 2.8MB/s eta 0:00:01\r\u001b[K     |███████▌                        | 215kB 2.8MB/s eta 0:00:01\r\u001b[K     |███████▉                        | 225kB 2.8MB/s eta 0:00:01\r\u001b[K     |████████▏                       | 235kB 2.8MB/s eta 0:00:01\r\u001b[K     |████████▌                       | 245kB 2.8MB/s eta 0:00:01\r\u001b[K     |█████████                       | 256kB 2.8MB/s eta 0:00:01\r\u001b[K     |█████████▎                      | 266kB 2.8MB/s eta 0:00:01\r\u001b[K     |█████████▋                      | 276kB 2.8MB/s eta 0:00:01\r\u001b[K     |██████████                      | 286kB 2.8MB/s eta 0:00:01\r\u001b[K     |██████████▎                     | 296kB 2.8MB/s eta 0:00:01\r\u001b[K     |██████████▊                     | 307kB 2.8MB/s eta 0:00:01\r\u001b[K     |███████████                     | 317kB 2.8MB/s eta 0:00:01\r\u001b[K     |███████████▍                    | 327kB 2.8MB/s eta 0:00:01\r\u001b[K     |███████████▊                    | 337kB 2.8MB/s eta 0:00:01\r\u001b[K     |████████████                    | 348kB 2.8MB/s eta 0:00:01\r\u001b[K     |████████████▌                   | 358kB 2.8MB/s eta 0:00:01\r\u001b[K     |████████████▉                   | 368kB 2.8MB/s eta 0:00:01\r\u001b[K     |█████████████▏                  | 378kB 2.8MB/s eta 0:00:01\r\u001b[K     |█████████████▌                  | 389kB 2.8MB/s eta 0:00:01\r\u001b[K     |██████████████                  | 399kB 2.8MB/s eta 0:00:01\r\u001b[K     |██████████████▎                 | 409kB 2.8MB/s eta 0:00:01\r\u001b[K     |██████████████▋                 | 419kB 2.8MB/s eta 0:00:01\r\u001b[K     |███████████████                 | 430kB 2.8MB/s eta 0:00:01\r\u001b[K     |███████████████▎                | 440kB 2.8MB/s eta 0:00:01\r\u001b[K     |███████████████▊                | 450kB 2.8MB/s eta 0:00:01\r\u001b[K     |████████████████                | 460kB 2.8MB/s eta 0:00:01\r\u001b[K     |████████████████▍               | 471kB 2.8MB/s eta 0:00:01\r\u001b[K     |████████████████▊               | 481kB 2.8MB/s eta 0:00:01\r\u001b[K     |█████████████████               | 491kB 2.8MB/s eta 0:00:01\r\u001b[K     |█████████████████▌              | 501kB 2.8MB/s eta 0:00:01\r\u001b[K     |█████████████████▉              | 512kB 2.8MB/s eta 0:00:01\r\u001b[K     |██████████████████▏             | 522kB 2.8MB/s eta 0:00:01\r\u001b[K     |██████████████████▌             | 532kB 2.8MB/s eta 0:00:01\r\u001b[K     |██████████████████▉             | 542kB 2.8MB/s eta 0:00:01\r\u001b[K     |███████████████████▎            | 552kB 2.8MB/s eta 0:00:01\r\u001b[K     |███████████████████▋            | 563kB 2.8MB/s eta 0:00:01\r\u001b[K     |████████████████████            | 573kB 2.8MB/s eta 0:00:01\r\u001b[K     |████████████████████▎           | 583kB 2.8MB/s eta 0:00:01\r\u001b[K     |████████████████████▋           | 593kB 2.8MB/s eta 0:00:01\r\u001b[K     |█████████████████████           | 604kB 2.8MB/s eta 0:00:01\r\u001b[K     |█████████████████████▍          | 614kB 2.8MB/s eta 0:00:01\r\u001b[K     |█████████████████████▊          | 624kB 2.8MB/s eta 0:00:01\r\u001b[K     |██████████████████████          | 634kB 2.8MB/s eta 0:00:01\r\u001b[K     |██████████████████████▍         | 645kB 2.8MB/s eta 0:00:01\r\u001b[K     |██████████████████████▉         | 655kB 2.8MB/s eta 0:00:01\r\u001b[K     |███████████████████████▏        | 665kB 2.8MB/s eta 0:00:01\r\u001b[K     |███████████████████████▌        | 675kB 2.8MB/s eta 0:00:01\r\u001b[K     |███████████████████████▉        | 686kB 2.8MB/s eta 0:00:01\r\u001b[K     |████████████████████████▏       | 696kB 2.8MB/s eta 0:00:01\r\u001b[K     |████████████████████████▋       | 706kB 2.8MB/s eta 0:00:01\r\u001b[K     |█████████████████████████       | 716kB 2.8MB/s eta 0:00:01\r\u001b[K     |█████████████████████████▎      | 727kB 2.8MB/s eta 0:00:01\r\u001b[K     |█████████████████████████▋      | 737kB 2.8MB/s eta 0:00:01\r\u001b[K     |██████████████████████████      | 747kB 2.8MB/s eta 0:00:01\r\u001b[K     |██████████████████████████▍     | 757kB 2.8MB/s eta 0:00:01\r\u001b[K     |██████████████████████████▊     | 768kB 2.8MB/s eta 0:00:01\r\u001b[K     |███████████████████████████     | 778kB 2.8MB/s eta 0:00:01\r\u001b[K     |███████████████████████████▍    | 788kB 2.8MB/s eta 0:00:01\r\u001b[K     |███████████████████████████▉    | 798kB 2.8MB/s eta 0:00:01\r\u001b[K     |████████████████████████████▏   | 808kB 2.8MB/s eta 0:00:01\r\u001b[K     |████████████████████████████▌   | 819kB 2.8MB/s eta 0:00:01\r\u001b[K     |████████████████████████████▉   | 829kB 2.8MB/s eta 0:00:01\r\u001b[K     |█████████████████████████████▏  | 839kB 2.8MB/s eta 0:00:01\r\u001b[K     |█████████████████████████████▋  | 849kB 2.8MB/s eta 0:00:01\r\u001b[K     |██████████████████████████████  | 860kB 2.8MB/s eta 0:00:01\r\u001b[K     |██████████████████████████████▎ | 870kB 2.8MB/s eta 0:00:01\r\u001b[K     |██████████████████████████████▋ | 880kB 2.8MB/s eta 0:00:01\r\u001b[K     |███████████████████████████████ | 890kB 2.8MB/s eta 0:00:01\r\u001b[K     |███████████████████████████████▍| 901kB 2.8MB/s eta 0:00:01\r\u001b[K     |███████████████████████████████▊| 911kB 2.8MB/s eta 0:00:01\r\u001b[K     |████████████████████████████████| 921kB 2.8MB/s \n",
            "\u001b[?25hRequirement already satisfied, skipping upgrade: pandas>=0.23.0 in /usr/local/lib/python3.6/dist-packages (from geopandas) (0.25.3)\n",
            "Collecting pyproj\n",
            "\u001b[?25l  Downloading https://files.pythonhosted.org/packages/d6/70/eedc98cd52b86de24a1589c762612a98bea26cde649ffdd60c1db396cce8/pyproj-2.4.2.post1-cp36-cp36m-manylinux2010_x86_64.whl (10.1MB)\n",
            "\u001b[K     |████████████████████████████████| 10.1MB 28kB/s \n",
            "\u001b[?25hCollecting fiona\n",
            "\u001b[?25l  Downloading https://files.pythonhosted.org/packages/50/f7/9899f8a9a2e38601472fe1079ce5088f58833221c8b8507d8b5eafd5404a/Fiona-1.8.13-cp36-cp36m-manylinux1_x86_64.whl (11.8MB)\n",
            "\u001b[K     |████████████████████████████████| 11.8MB 28.9MB/s \n",
            "\u001b[?25hRequirement already satisfied, skipping upgrade: shapely in /usr/local/lib/python3.6/dist-packages (from geopandas) (1.6.4.post2)\n",
            "Requirement already satisfied, skipping upgrade: pytz>=2017.2 in /usr/local/lib/python3.6/dist-packages (from pandas>=0.23.0->geopandas) (2018.9)\n",
            "Requirement already satisfied, skipping upgrade: python-dateutil>=2.6.1 in /usr/local/lib/python3.6/dist-packages (from pandas>=0.23.0->geopandas) (2.6.1)\n",
            "Requirement already satisfied, skipping upgrade: numpy>=1.13.3 in /usr/local/lib/python3.6/dist-packages (from pandas>=0.23.0->geopandas) (1.17.5)\n",
            "Requirement already satisfied, skipping upgrade: click<8,>=4.0 in /usr/local/lib/python3.6/dist-packages (from fiona->geopandas) (7.0)\n",
            "Requirement already satisfied, skipping upgrade: attrs>=17 in /usr/local/lib/python3.6/dist-packages (from fiona->geopandas) (19.3.0)\n",
            "Collecting click-plugins>=1.0\n",
            "  Downloading https://files.pythonhosted.org/packages/e9/da/824b92d9942f4e472702488857914bdd50f73021efea15b4cad9aca8ecef/click_plugins-1.1.1-py2.py3-none-any.whl\n",
            "Requirement already satisfied, skipping upgrade: six>=1.7 in /usr/local/lib/python3.6/dist-packages (from fiona->geopandas) (1.12.0)\n",
            "Collecting munch\n",
            "  Downloading https://files.pythonhosted.org/packages/cc/ab/85d8da5c9a45e072301beb37ad7f833cd344e04c817d97e0cc75681d248f/munch-2.5.0-py2.py3-none-any.whl\n",
            "Collecting cligj>=0.5\n",
            "  Downloading https://files.pythonhosted.org/packages/e4/be/30a58b4b0733850280d01f8bd132591b4668ed5c7046761098d665ac2174/cligj-0.5.0-py3-none-any.whl\n",
            "Installing collected packages: pyproj, click-plugins, munch, cligj, fiona, geopandas\n",
            "Successfully installed click-plugins-1.1.1 cligj-0.5.0 fiona-1.8.13 geopandas-0.6.2 munch-2.5.0 pyproj-2.4.2.post1\n",
            "Collecting pyshp\n",
            "\u001b[?25l  Downloading https://files.pythonhosted.org/packages/27/16/3bf15aa864fb77845fab8007eda22c2bd67bd6c1fd13496df452c8c43621/pyshp-2.1.0.tar.gz (215kB)\n",
            "\u001b[K     |████████████████████████████████| 225kB 2.8MB/s \n",
            "\u001b[?25hBuilding wheels for collected packages: pyshp\n",
            "  Building wheel for pyshp (setup.py) ... \u001b[?25l\u001b[?25hdone\n",
            "  Created wheel for pyshp: filename=pyshp-2.1.0-cp36-none-any.whl size=32607 sha256=3f66406acbe9483d56945b60827a0c5941aeef32e5707c5d87cdf6f3b9798db0\n",
            "  Stored in directory: /root/.cache/pip/wheels/a6/0c/de/321b5192ad416b328975a2f0385f72c64db4656501eba7cc1a\n",
            "Successfully built pyshp\n",
            "Installing collected packages: pyshp\n",
            "Successfully installed pyshp-2.1.0\n",
            "Requirement already up-to-date: shapely in /usr/local/lib/python3.6/dist-packages (1.6.4.post2)\n",
            "Requirement already up-to-date: descartes in /usr/local/lib/python3.6/dist-packages (1.1.0)\n",
            "Requirement already satisfied, skipping upgrade: matplotlib in /usr/local/lib/python3.6/dist-packages (from descartes) (3.1.2)\n",
            "Requirement already satisfied, skipping upgrade: kiwisolver>=1.0.1 in /usr/local/lib/python3.6/dist-packages (from matplotlib->descartes) (1.1.0)\n",
            "Requirement already satisfied, skipping upgrade: python-dateutil>=2.1 in /usr/local/lib/python3.6/dist-packages (from matplotlib->descartes) (2.6.1)\n",
            "Requirement already satisfied, skipping upgrade: numpy>=1.11 in /usr/local/lib/python3.6/dist-packages (from matplotlib->descartes) (1.17.5)\n",
            "Requirement already satisfied, skipping upgrade: pyparsing!=2.0.4,!=2.1.2,!=2.1.6,>=2.0.1 in /usr/local/lib/python3.6/dist-packages (from matplotlib->descartes) (2.4.6)\n",
            "Requirement already satisfied, skipping upgrade: cycler>=0.10 in /usr/local/lib/python3.6/dist-packages (from matplotlib->descartes) (0.10.0)\n",
            "Requirement already satisfied, skipping upgrade: setuptools in /usr/local/lib/python3.6/dist-packages (from kiwisolver>=1.0.1->matplotlib->descartes) (42.0.2)\n",
            "Requirement already satisfied, skipping upgrade: six>=1.5 in /usr/local/lib/python3.6/dist-packages (from python-dateutil>=2.1->matplotlib->descartes) (1.12.0)\n"
          ],
          "name": "stdout"
        }
      ]
    },
    {
      "cell_type": "code",
      "metadata": {
        "id": "gtkrED5c3o6x",
        "colab_type": "code",
        "colab": {}
      },
      "source": [
        "import pandas as pd\n",
        "import numpy as np\n",
        "import matplotlib\n",
        "import matplotlib.pyplot as plt\n",
        "import geopandas as gpd\n",
        "import seaborn as sns"
      ],
      "execution_count": 0,
      "outputs": []
    },
    {
      "cell_type": "markdown",
      "metadata": {
        "id": "51sHe2K6cCE1",
        "colab_type": "text"
      },
      "source": [
        "###Setting Constraints & Variables\n"
      ]
    },
    {
      "cell_type": "code",
      "metadata": {
        "id": "aSZewKc6Xy78",
        "colab_type": "code",
        "colab": {}
      },
      "source": [
        "pd.set_option('display.max_rows', 20)"
      ],
      "execution_count": 0,
      "outputs": []
    },
    {
      "cell_type": "markdown",
      "metadata": {
        "id": "QL7T2lF8CGe1",
        "colab_type": "text"
      },
      "source": [
        "# US Forest Service Data\n",
        "\n",
        "[US Forest Service Data - RDS-2019-0005](https://www.fs.usda.gov/rds/archive/catalog/RDS-2019-0005-2) \n",
        "\n",
        "This data publication contains field and satellite observations at 1567 plots across wildfire extents that burned between the years 2000-2007, collected for Joint Fire Science Project ID: 14-1-02-27. \n",
        "\n"
      ]
    },
    {
      "cell_type": "code",
      "metadata": {
        "id": "juah2vg130Hx",
        "colab_type": "code",
        "colab": {}
      },
      "source": [
        "df = pd.read_csv('https://raw.githubusercontent.com/filchyboy/Examining-US-Forest-Service-Data---RDS-2019-0005/master/field_attrib_and_satellite_data.csv')"
      ],
      "execution_count": 0,
      "outputs": []
    },
    {
      "cell_type": "markdown",
      "metadata": {
        "id": "DPKeFH3FSi6E",
        "colab_type": "text"
      },
      "source": [
        "##Ancillary Data\n",
        "Fires & Acres burned per year derived from NOAA Annual Wildfires Report"
      ]
    },
    {
      "cell_type": "code",
      "metadata": {
        "id": "xgq20Z9NSny6",
        "colab_type": "code",
        "colab": {}
      },
      "source": [
        "df2 = pd.read_csv('https://raw.githubusercontent.com/filchyboy/Examining-US-Forest-Service-Data---RDS-2019-0005/master/Yearly_WildFire_Totals_from_NOAA-Fires_Acre_Year.csv')"
      ],
      "execution_count": 0,
      "outputs": []
    },
    {
      "cell_type": "markdown",
      "metadata": {
        "id": "xSHDSjAD4jqz",
        "colab_type": "text"
      },
      "source": [
        "#Examining the US Forest Service Data\n",
        "\n",
        "General examination to determine what steps would be useful to clean and organize the data as presented from the Joint Fire Science Project."
      ]
    },
    {
      "cell_type": "code",
      "metadata": {
        "id": "aVpNpl__5vni",
        "colab_type": "code",
        "outputId": "069056cf-3767-4ae1-8a7e-59d15ebc3aca",
        "colab": {
          "base_uri": "https://localhost:8080/",
          "height": 253
        }
      },
      "source": [
        "df.head()"
      ],
      "execution_count": 6,
      "outputs": [
        {
          "output_type": "execute_result",
          "data": {
            "text/html": [
              "<div>\n",
              "<style scoped>\n",
              "    .dataframe tbody tr th:only-of-type {\n",
              "        vertical-align: middle;\n",
              "    }\n",
              "\n",
              "    .dataframe tbody tr th {\n",
              "        vertical-align: top;\n",
              "    }\n",
              "\n",
              "    .dataframe thead th {\n",
              "        text-align: right;\n",
              "    }\n",
              "</style>\n",
              "<table border=\"1\" class=\"dataframe\">\n",
              "  <thead>\n",
              "    <tr style=\"text-align: right;\">\n",
              "      <th></th>\n",
              "      <th>STATE</th>\n",
              "      <th>FIRE</th>\n",
              "      <th>PLOT</th>\n",
              "      <th>SITE</th>\n",
              "      <th>PLOT_LETTER</th>\n",
              "      <th>LONGITUDE</th>\n",
              "      <th>LATITUDE</th>\n",
              "      <th>X_ALBERS</th>\n",
              "      <th>Y_ALBERS</th>\n",
              "      <th>ELEVATION</th>\n",
              "      <th>VERT_PREC</th>\n",
              "      <th>HORZ_PREC</th>\n",
              "      <th>TRASP</th>\n",
              "      <th>SLOPE</th>\n",
              "      <th>BURN_YEAR</th>\n",
              "      <th>FIELD_DATE</th>\n",
              "      <th>UNDER_RICHNESS</th>\n",
              "      <th>UNDER_GRN_PERC</th>\n",
              "      <th>UNDER_NPV_PERC</th>\n",
              "      <th>UNDER_NPV_CHAR_PERC</th>\n",
              "      <th>ASH_PERC</th>\n",
              "      <th>ROCK_PERC</th>\n",
              "      <th>ROCK_CHAR_PERC</th>\n",
              "      <th>SOIL_PERC</th>\n",
              "      <th>SOIL_CHAR_PERC</th>\n",
              "      <th>TALL_SHRUB_PERC</th>\n",
              "      <th>CANOPY_AVE</th>\n",
              "      <th>FUEL_1HR</th>\n",
              "      <th>FUEL_10HR</th>\n",
              "      <th>FUEL_100HR</th>\n",
              "      <th>FUEL_1000HR</th>\n",
              "      <th>LITTER_DEPTH</th>\n",
              "      <th>DUFF_DEPTH</th>\n",
              "      <th>ABGR_LIVE_BA</th>\n",
              "      <th>ABGR_DEAD_BA</th>\n",
              "      <th>ABLA_LIVE_BA</th>\n",
              "      <th>ABLA_DEAD_BA</th>\n",
              "      <th>BEPA_LIVE_BA</th>\n",
              "      <th>BEPA_DEAD_BA</th>\n",
              "      <th>LAOC_LIVE_BA</th>\n",
              "      <th>...</th>\n",
              "      <th>OTHER_SAP_LIVE</th>\n",
              "      <th>OTHER_SAP_DEAD</th>\n",
              "      <th>TOTAL_SEED_LIVE</th>\n",
              "      <th>TOTAL_SEED_DEAD</th>\n",
              "      <th>TOTAL_SAP_LIVE</th>\n",
              "      <th>TOTAL_SAP_DEAD</th>\n",
              "      <th>DNBR</th>\n",
              "      <th>NBR_1984</th>\n",
              "      <th>NBR_1985</th>\n",
              "      <th>NBR_1986</th>\n",
              "      <th>NBR_1987</th>\n",
              "      <th>NBR_1988</th>\n",
              "      <th>NBR_1989</th>\n",
              "      <th>NBR_1990</th>\n",
              "      <th>NBR_1991</th>\n",
              "      <th>NBR_1992</th>\n",
              "      <th>NBR_1993</th>\n",
              "      <th>NBR_1994</th>\n",
              "      <th>NBR_1995</th>\n",
              "      <th>NBR_1996</th>\n",
              "      <th>NBR_1997</th>\n",
              "      <th>NBR_1998</th>\n",
              "      <th>NBR_1999</th>\n",
              "      <th>NBR_2000</th>\n",
              "      <th>NBR_2001</th>\n",
              "      <th>NBR_2002</th>\n",
              "      <th>NBR_2003</th>\n",
              "      <th>NBR_2004</th>\n",
              "      <th>NBR_2005</th>\n",
              "      <th>NBR_2006</th>\n",
              "      <th>NBR_2007</th>\n",
              "      <th>NBR_2008</th>\n",
              "      <th>NBR_2009</th>\n",
              "      <th>NBR_2010</th>\n",
              "      <th>NBR_2011</th>\n",
              "      <th>NBR_2012</th>\n",
              "      <th>NBR_2013</th>\n",
              "      <th>NBR_2014</th>\n",
              "      <th>NBR_2015</th>\n",
              "      <th>NBR_2016</th>\n",
              "    </tr>\n",
              "  </thead>\n",
              "  <tbody>\n",
              "    <tr>\n",
              "      <th>0</th>\n",
              "      <td>MT</td>\n",
              "      <td>BLACK</td>\n",
              "      <td>BLACK_1_A</td>\n",
              "      <td>1</td>\n",
              "      <td>A</td>\n",
              "      <td>-114.224120</td>\n",
              "      <td>46.834971</td>\n",
              "      <td>-1387421.676</td>\n",
              "      <td>2782863.094</td>\n",
              "      <td>1635.524</td>\n",
              "      <td>NaN</td>\n",
              "      <td>NaN</td>\n",
              "      <td>0.001380</td>\n",
              "      <td>27.967438</td>\n",
              "      <td>2003</td>\n",
              "      <td>8/11/2013</td>\n",
              "      <td>9.0</td>\n",
              "      <td>57.0</td>\n",
              "      <td>25.0</td>\n",
              "      <td>1.0</td>\n",
              "      <td>0.0</td>\n",
              "      <td>10.0</td>\n",
              "      <td>0.0</td>\n",
              "      <td>8.0</td>\n",
              "      <td>0.0</td>\n",
              "      <td>0.0</td>\n",
              "      <td>58.854167</td>\n",
              "      <td>0.00</td>\n",
              "      <td>0.00</td>\n",
              "      <td>0.0</td>\n",
              "      <td>1.3</td>\n",
              "      <td>11.0</td>\n",
              "      <td>9.0</td>\n",
              "      <td>0.0</td>\n",
              "      <td>0.0</td>\n",
              "      <td>0.0</td>\n",
              "      <td>0.0</td>\n",
              "      <td>0.0</td>\n",
              "      <td>0.0</td>\n",
              "      <td>0.0</td>\n",
              "      <td>...</td>\n",
              "      <td>0.0</td>\n",
              "      <td>0.0</td>\n",
              "      <td>5833.333333</td>\n",
              "      <td>0.0</td>\n",
              "      <td>0.0</td>\n",
              "      <td>0.0</td>\n",
              "      <td>871</td>\n",
              "      <td>659.0</td>\n",
              "      <td>659.0</td>\n",
              "      <td>658.0</td>\n",
              "      <td>658.0</td>\n",
              "      <td>658.0</td>\n",
              "      <td>658.0</td>\n",
              "      <td>658.0</td>\n",
              "      <td>658.0</td>\n",
              "      <td>658.0</td>\n",
              "      <td>658.0</td>\n",
              "      <td>658.0</td>\n",
              "      <td>657.0</td>\n",
              "      <td>657.0</td>\n",
              "      <td>657.0</td>\n",
              "      <td>657.0</td>\n",
              "      <td>657.0</td>\n",
              "      <td>657.0</td>\n",
              "      <td>657.0</td>\n",
              "      <td>657.0</td>\n",
              "      <td>656.0</td>\n",
              "      <td>-225.0</td>\n",
              "      <td>-165.0</td>\n",
              "      <td>-105.0</td>\n",
              "      <td>-44.0</td>\n",
              "      <td>15.0</td>\n",
              "      <td>76.0</td>\n",
              "      <td>136.0</td>\n",
              "      <td>197.0</td>\n",
              "      <td>257.0</td>\n",
              "      <td>317.0</td>\n",
              "      <td>378.0</td>\n",
              "      <td>438.0</td>\n",
              "      <td>499.0</td>\n",
              "    </tr>\n",
              "    <tr>\n",
              "      <th>1</th>\n",
              "      <td>MT</td>\n",
              "      <td>BLACK</td>\n",
              "      <td>BLACK_1_B</td>\n",
              "      <td>1</td>\n",
              "      <td>B</td>\n",
              "      <td>-114.223997</td>\n",
              "      <td>46.834690</td>\n",
              "      <td>-1387418.342</td>\n",
              "      <td>2782830.681</td>\n",
              "      <td>1650.342</td>\n",
              "      <td>NaN</td>\n",
              "      <td>NaN</td>\n",
              "      <td>0.000572</td>\n",
              "      <td>28.338678</td>\n",
              "      <td>2003</td>\n",
              "      <td>8/11/2013</td>\n",
              "      <td>9.0</td>\n",
              "      <td>54.0</td>\n",
              "      <td>40.0</td>\n",
              "      <td>10.0</td>\n",
              "      <td>0.0</td>\n",
              "      <td>6.0</td>\n",
              "      <td>0.0</td>\n",
              "      <td>0.0</td>\n",
              "      <td>0.0</td>\n",
              "      <td>NaN</td>\n",
              "      <td>45.312500</td>\n",
              "      <td>0.08</td>\n",
              "      <td>0.06</td>\n",
              "      <td>0.7</td>\n",
              "      <td>NaN</td>\n",
              "      <td>14.0</td>\n",
              "      <td>7.0</td>\n",
              "      <td>0.0</td>\n",
              "      <td>0.0</td>\n",
              "      <td>0.0</td>\n",
              "      <td>0.0</td>\n",
              "      <td>0.0</td>\n",
              "      <td>0.0</td>\n",
              "      <td>0.0</td>\n",
              "      <td>...</td>\n",
              "      <td>NaN</td>\n",
              "      <td>NaN</td>\n",
              "      <td>NaN</td>\n",
              "      <td>NaN</td>\n",
              "      <td>NaN</td>\n",
              "      <td>NaN</td>\n",
              "      <td>857</td>\n",
              "      <td>638.0</td>\n",
              "      <td>642.0</td>\n",
              "      <td>645.0</td>\n",
              "      <td>649.0</td>\n",
              "      <td>652.0</td>\n",
              "      <td>656.0</td>\n",
              "      <td>660.0</td>\n",
              "      <td>663.0</td>\n",
              "      <td>667.0</td>\n",
              "      <td>671.0</td>\n",
              "      <td>674.0</td>\n",
              "      <td>678.0</td>\n",
              "      <td>681.0</td>\n",
              "      <td>685.0</td>\n",
              "      <td>689.0</td>\n",
              "      <td>692.0</td>\n",
              "      <td>696.0</td>\n",
              "      <td>700.0</td>\n",
              "      <td>703.0</td>\n",
              "      <td>707.0</td>\n",
              "      <td>-275.0</td>\n",
              "      <td>-205.0</td>\n",
              "      <td>-134.0</td>\n",
              "      <td>-63.0</td>\n",
              "      <td>6.0</td>\n",
              "      <td>77.0</td>\n",
              "      <td>148.0</td>\n",
              "      <td>218.0</td>\n",
              "      <td>289.0</td>\n",
              "      <td>360.0</td>\n",
              "      <td>431.0</td>\n",
              "      <td>501.0</td>\n",
              "      <td>572.0</td>\n",
              "    </tr>\n",
              "    <tr>\n",
              "      <th>2</th>\n",
              "      <td>MT</td>\n",
              "      <td>BLACK</td>\n",
              "      <td>BLACK_1_D</td>\n",
              "      <td>1</td>\n",
              "      <td>D</td>\n",
              "      <td>-114.224508</td>\n",
              "      <td>46.834817</td>\n",
              "      <td>-1387454.074</td>\n",
              "      <td>2782851.967</td>\n",
              "      <td>1631.256</td>\n",
              "      <td>NaN</td>\n",
              "      <td>NaN</td>\n",
              "      <td>0.021165</td>\n",
              "      <td>27.937103</td>\n",
              "      <td>2003</td>\n",
              "      <td>8/11/2013</td>\n",
              "      <td>15.0</td>\n",
              "      <td>57.0</td>\n",
              "      <td>40.0</td>\n",
              "      <td>25.0</td>\n",
              "      <td>0.0</td>\n",
              "      <td>2.0</td>\n",
              "      <td>0.0</td>\n",
              "      <td>1.0</td>\n",
              "      <td>0.0</td>\n",
              "      <td>NaN</td>\n",
              "      <td>50.000000</td>\n",
              "      <td>0.01</td>\n",
              "      <td>0.00</td>\n",
              "      <td>0.2</td>\n",
              "      <td>NaN</td>\n",
              "      <td>14.0</td>\n",
              "      <td>9.0</td>\n",
              "      <td>0.0</td>\n",
              "      <td>0.0</td>\n",
              "      <td>0.0</td>\n",
              "      <td>0.0</td>\n",
              "      <td>0.0</td>\n",
              "      <td>0.0</td>\n",
              "      <td>0.0</td>\n",
              "      <td>...</td>\n",
              "      <td>NaN</td>\n",
              "      <td>NaN</td>\n",
              "      <td>NaN</td>\n",
              "      <td>NaN</td>\n",
              "      <td>NaN</td>\n",
              "      <td>NaN</td>\n",
              "      <td>877</td>\n",
              "      <td>670.0</td>\n",
              "      <td>671.0</td>\n",
              "      <td>672.0</td>\n",
              "      <td>673.0</td>\n",
              "      <td>674.0</td>\n",
              "      <td>675.0</td>\n",
              "      <td>676.0</td>\n",
              "      <td>677.0</td>\n",
              "      <td>678.0</td>\n",
              "      <td>679.0</td>\n",
              "      <td>680.0</td>\n",
              "      <td>681.0</td>\n",
              "      <td>681.0</td>\n",
              "      <td>682.0</td>\n",
              "      <td>683.0</td>\n",
              "      <td>684.0</td>\n",
              "      <td>685.0</td>\n",
              "      <td>686.0</td>\n",
              "      <td>687.0</td>\n",
              "      <td>688.0</td>\n",
              "      <td>-238.0</td>\n",
              "      <td>-167.0</td>\n",
              "      <td>-95.0</td>\n",
              "      <td>-24.0</td>\n",
              "      <td>47.0</td>\n",
              "      <td>119.0</td>\n",
              "      <td>190.0</td>\n",
              "      <td>262.0</td>\n",
              "      <td>334.0</td>\n",
              "      <td>405.0</td>\n",
              "      <td>477.0</td>\n",
              "      <td>548.0</td>\n",
              "      <td>620.0</td>\n",
              "    </tr>\n",
              "    <tr>\n",
              "      <th>3</th>\n",
              "      <td>MT</td>\n",
              "      <td>BLACK</td>\n",
              "      <td>BLACK_1_F</td>\n",
              "      <td>1</td>\n",
              "      <td>F</td>\n",
              "      <td>-114.224263</td>\n",
              "      <td>46.835208</td>\n",
              "      <td>-1387427.416</td>\n",
              "      <td>2782890.906</td>\n",
              "      <td>1617.569</td>\n",
              "      <td>NaN</td>\n",
              "      <td>NaN</td>\n",
              "      <td>0.045259</td>\n",
              "      <td>27.995329</td>\n",
              "      <td>2003</td>\n",
              "      <td>8/11/2013</td>\n",
              "      <td>8.0</td>\n",
              "      <td>67.0</td>\n",
              "      <td>30.0</td>\n",
              "      <td>30.0</td>\n",
              "      <td>0.0</td>\n",
              "      <td>1.0</td>\n",
              "      <td>0.0</td>\n",
              "      <td>2.0</td>\n",
              "      <td>0.0</td>\n",
              "      <td>NaN</td>\n",
              "      <td>20.312500</td>\n",
              "      <td>0.05</td>\n",
              "      <td>0.10</td>\n",
              "      <td>0.2</td>\n",
              "      <td>NaN</td>\n",
              "      <td>18.0</td>\n",
              "      <td>5.0</td>\n",
              "      <td>0.0</td>\n",
              "      <td>0.0</td>\n",
              "      <td>0.0</td>\n",
              "      <td>0.0</td>\n",
              "      <td>0.0</td>\n",
              "      <td>0.0</td>\n",
              "      <td>0.0</td>\n",
              "      <td>...</td>\n",
              "      <td>NaN</td>\n",
              "      <td>NaN</td>\n",
              "      <td>NaN</td>\n",
              "      <td>NaN</td>\n",
              "      <td>NaN</td>\n",
              "      <td>NaN</td>\n",
              "      <td>756</td>\n",
              "      <td>680.0</td>\n",
              "      <td>679.0</td>\n",
              "      <td>678.0</td>\n",
              "      <td>678.0</td>\n",
              "      <td>677.0</td>\n",
              "      <td>677.0</td>\n",
              "      <td>676.0</td>\n",
              "      <td>676.0</td>\n",
              "      <td>675.0</td>\n",
              "      <td>675.0</td>\n",
              "      <td>674.0</td>\n",
              "      <td>674.0</td>\n",
              "      <td>673.0</td>\n",
              "      <td>673.0</td>\n",
              "      <td>672.0</td>\n",
              "      <td>671.0</td>\n",
              "      <td>671.0</td>\n",
              "      <td>670.0</td>\n",
              "      <td>670.0</td>\n",
              "      <td>669.0</td>\n",
              "      <td>-217.0</td>\n",
              "      <td>-157.0</td>\n",
              "      <td>-97.0</td>\n",
              "      <td>-37.0</td>\n",
              "      <td>21.0</td>\n",
              "      <td>81.0</td>\n",
              "      <td>141.0</td>\n",
              "      <td>200.0</td>\n",
              "      <td>260.0</td>\n",
              "      <td>320.0</td>\n",
              "      <td>379.0</td>\n",
              "      <td>439.0</td>\n",
              "      <td>499.0</td>\n",
              "    </tr>\n",
              "    <tr>\n",
              "      <th>4</th>\n",
              "      <td>MT</td>\n",
              "      <td>BLACK</td>\n",
              "      <td>BLACK_1_H</td>\n",
              "      <td>1</td>\n",
              "      <td>H</td>\n",
              "      <td>-114.223744</td>\n",
              "      <td>46.835045</td>\n",
              "      <td>-1387391.814</td>\n",
              "      <td>2782865.610</td>\n",
              "      <td>1624.488</td>\n",
              "      <td>NaN</td>\n",
              "      <td>NaN</td>\n",
              "      <td>0.118100</td>\n",
              "      <td>23.778915</td>\n",
              "      <td>2003</td>\n",
              "      <td>8/11/2013</td>\n",
              "      <td>9.0</td>\n",
              "      <td>55.0</td>\n",
              "      <td>35.0</td>\n",
              "      <td>15.0</td>\n",
              "      <td>0.0</td>\n",
              "      <td>2.0</td>\n",
              "      <td>0.0</td>\n",
              "      <td>8.0</td>\n",
              "      <td>0.0</td>\n",
              "      <td>NaN</td>\n",
              "      <td>64.583333</td>\n",
              "      <td>0.05</td>\n",
              "      <td>0.03</td>\n",
              "      <td>0.3</td>\n",
              "      <td>NaN</td>\n",
              "      <td>8.0</td>\n",
              "      <td>5.0</td>\n",
              "      <td>0.0</td>\n",
              "      <td>0.0</td>\n",
              "      <td>0.0</td>\n",
              "      <td>0.0</td>\n",
              "      <td>0.0</td>\n",
              "      <td>0.0</td>\n",
              "      <td>0.0</td>\n",
              "      <td>...</td>\n",
              "      <td>NaN</td>\n",
              "      <td>NaN</td>\n",
              "      <td>NaN</td>\n",
              "      <td>NaN</td>\n",
              "      <td>NaN</td>\n",
              "      <td>NaN</td>\n",
              "      <td>1058</td>\n",
              "      <td>663.0</td>\n",
              "      <td>662.0</td>\n",
              "      <td>662.0</td>\n",
              "      <td>662.0</td>\n",
              "      <td>661.0</td>\n",
              "      <td>661.0</td>\n",
              "      <td>661.0</td>\n",
              "      <td>660.0</td>\n",
              "      <td>660.0</td>\n",
              "      <td>660.0</td>\n",
              "      <td>660.0</td>\n",
              "      <td>659.0</td>\n",
              "      <td>659.0</td>\n",
              "      <td>659.0</td>\n",
              "      <td>658.0</td>\n",
              "      <td>658.0</td>\n",
              "      <td>658.0</td>\n",
              "      <td>657.0</td>\n",
              "      <td>657.0</td>\n",
              "      <td>657.0</td>\n",
              "      <td>-311.0</td>\n",
              "      <td>-236.0</td>\n",
              "      <td>-161.0</td>\n",
              "      <td>-87.0</td>\n",
              "      <td>-12.0</td>\n",
              "      <td>61.0</td>\n",
              "      <td>136.0</td>\n",
              "      <td>211.0</td>\n",
              "      <td>285.0</td>\n",
              "      <td>360.0</td>\n",
              "      <td>435.0</td>\n",
              "      <td>509.0</td>\n",
              "      <td>584.0</td>\n",
              "    </tr>\n",
              "  </tbody>\n",
              "</table>\n",
              "<p>5 rows × 163 columns</p>\n",
              "</div>"
            ],
            "text/plain": [
              "  STATE   FIRE       PLOT SITE  ... NBR_2013  NBR_2014  NBR_2015  NBR_2016\n",
              "0    MT  BLACK  BLACK_1_A    1  ...    317.0     378.0     438.0     499.0\n",
              "1    MT  BLACK  BLACK_1_B    1  ...    360.0     431.0     501.0     572.0\n",
              "2    MT  BLACK  BLACK_1_D    1  ...    405.0     477.0     548.0     620.0\n",
              "3    MT  BLACK  BLACK_1_F    1  ...    320.0     379.0     439.0     499.0\n",
              "4    MT  BLACK  BLACK_1_H    1  ...    360.0     435.0     509.0     584.0\n",
              "\n",
              "[5 rows x 163 columns]"
            ]
          },
          "metadata": {
            "tags": []
          },
          "execution_count": 6
        }
      ]
    },
    {
      "cell_type": "code",
      "metadata": {
        "id": "RNfSLg9gW-HX",
        "colab_type": "code",
        "outputId": "23727656-fdad-472e-9004-1b5ca78b5a7b",
        "colab": {
          "base_uri": "https://localhost:8080/",
          "height": 253
        }
      },
      "source": [
        "df.tail()"
      ],
      "execution_count": 7,
      "outputs": [
        {
          "output_type": "execute_result",
          "data": {
            "text/html": [
              "<div>\n",
              "<style scoped>\n",
              "    .dataframe tbody tr th:only-of-type {\n",
              "        vertical-align: middle;\n",
              "    }\n",
              "\n",
              "    .dataframe tbody tr th {\n",
              "        vertical-align: top;\n",
              "    }\n",
              "\n",
              "    .dataframe thead th {\n",
              "        text-align: right;\n",
              "    }\n",
              "</style>\n",
              "<table border=\"1\" class=\"dataframe\">\n",
              "  <thead>\n",
              "    <tr style=\"text-align: right;\">\n",
              "      <th></th>\n",
              "      <th>STATE</th>\n",
              "      <th>FIRE</th>\n",
              "      <th>PLOT</th>\n",
              "      <th>SITE</th>\n",
              "      <th>PLOT_LETTER</th>\n",
              "      <th>LONGITUDE</th>\n",
              "      <th>LATITUDE</th>\n",
              "      <th>X_ALBERS</th>\n",
              "      <th>Y_ALBERS</th>\n",
              "      <th>ELEVATION</th>\n",
              "      <th>VERT_PREC</th>\n",
              "      <th>HORZ_PREC</th>\n",
              "      <th>TRASP</th>\n",
              "      <th>SLOPE</th>\n",
              "      <th>BURN_YEAR</th>\n",
              "      <th>FIELD_DATE</th>\n",
              "      <th>UNDER_RICHNESS</th>\n",
              "      <th>UNDER_GRN_PERC</th>\n",
              "      <th>UNDER_NPV_PERC</th>\n",
              "      <th>UNDER_NPV_CHAR_PERC</th>\n",
              "      <th>ASH_PERC</th>\n",
              "      <th>ROCK_PERC</th>\n",
              "      <th>ROCK_CHAR_PERC</th>\n",
              "      <th>SOIL_PERC</th>\n",
              "      <th>SOIL_CHAR_PERC</th>\n",
              "      <th>TALL_SHRUB_PERC</th>\n",
              "      <th>CANOPY_AVE</th>\n",
              "      <th>FUEL_1HR</th>\n",
              "      <th>FUEL_10HR</th>\n",
              "      <th>FUEL_100HR</th>\n",
              "      <th>FUEL_1000HR</th>\n",
              "      <th>LITTER_DEPTH</th>\n",
              "      <th>DUFF_DEPTH</th>\n",
              "      <th>ABGR_LIVE_BA</th>\n",
              "      <th>ABGR_DEAD_BA</th>\n",
              "      <th>ABLA_LIVE_BA</th>\n",
              "      <th>ABLA_DEAD_BA</th>\n",
              "      <th>BEPA_LIVE_BA</th>\n",
              "      <th>BEPA_DEAD_BA</th>\n",
              "      <th>LAOC_LIVE_BA</th>\n",
              "      <th>...</th>\n",
              "      <th>OTHER_SAP_LIVE</th>\n",
              "      <th>OTHER_SAP_DEAD</th>\n",
              "      <th>TOTAL_SEED_LIVE</th>\n",
              "      <th>TOTAL_SEED_DEAD</th>\n",
              "      <th>TOTAL_SAP_LIVE</th>\n",
              "      <th>TOTAL_SAP_DEAD</th>\n",
              "      <th>DNBR</th>\n",
              "      <th>NBR_1984</th>\n",
              "      <th>NBR_1985</th>\n",
              "      <th>NBR_1986</th>\n",
              "      <th>NBR_1987</th>\n",
              "      <th>NBR_1988</th>\n",
              "      <th>NBR_1989</th>\n",
              "      <th>NBR_1990</th>\n",
              "      <th>NBR_1991</th>\n",
              "      <th>NBR_1992</th>\n",
              "      <th>NBR_1993</th>\n",
              "      <th>NBR_1994</th>\n",
              "      <th>NBR_1995</th>\n",
              "      <th>NBR_1996</th>\n",
              "      <th>NBR_1997</th>\n",
              "      <th>NBR_1998</th>\n",
              "      <th>NBR_1999</th>\n",
              "      <th>NBR_2000</th>\n",
              "      <th>NBR_2001</th>\n",
              "      <th>NBR_2002</th>\n",
              "      <th>NBR_2003</th>\n",
              "      <th>NBR_2004</th>\n",
              "      <th>NBR_2005</th>\n",
              "      <th>NBR_2006</th>\n",
              "      <th>NBR_2007</th>\n",
              "      <th>NBR_2008</th>\n",
              "      <th>NBR_2009</th>\n",
              "      <th>NBR_2010</th>\n",
              "      <th>NBR_2011</th>\n",
              "      <th>NBR_2012</th>\n",
              "      <th>NBR_2013</th>\n",
              "      <th>NBR_2014</th>\n",
              "      <th>NBR_2015</th>\n",
              "      <th>NBR_2016</th>\n",
              "    </tr>\n",
              "  </thead>\n",
              "  <tbody>\n",
              "    <tr>\n",
              "      <th>1562</th>\n",
              "      <td>MT</td>\n",
              "      <td>WEDGE</td>\n",
              "      <td>WEDGE_U101_A</td>\n",
              "      <td>U101</td>\n",
              "      <td>A</td>\n",
              "      <td>-114.391311</td>\n",
              "      <td>48.874973</td>\n",
              "      <td>-1356707.722</td>\n",
              "      <td>3006175.769</td>\n",
              "      <td>1205.384374</td>\n",
              "      <td>1.6</td>\n",
              "      <td>1.2</td>\n",
              "      <td>0.991466</td>\n",
              "      <td>4.393377</td>\n",
              "      <td>2003</td>\n",
              "      <td>7/16/2015</td>\n",
              "      <td>8.0</td>\n",
              "      <td>80.0</td>\n",
              "      <td>20.0</td>\n",
              "      <td>0.0</td>\n",
              "      <td>0.0</td>\n",
              "      <td>0.0</td>\n",
              "      <td>0.0</td>\n",
              "      <td>0.0</td>\n",
              "      <td>0.0</td>\n",
              "      <td>0.0</td>\n",
              "      <td>78.125000</td>\n",
              "      <td>0.07</td>\n",
              "      <td>0.03</td>\n",
              "      <td>0.00</td>\n",
              "      <td>0.1</td>\n",
              "      <td>13.0</td>\n",
              "      <td>26.0</td>\n",
              "      <td>0.0</td>\n",
              "      <td>0.0</td>\n",
              "      <td>0.0</td>\n",
              "      <td>0.0</td>\n",
              "      <td>0.0</td>\n",
              "      <td>0.0</td>\n",
              "      <td>0.0</td>\n",
              "      <td>...</td>\n",
              "      <td>0.0</td>\n",
              "      <td>0.0</td>\n",
              "      <td>5200.0</td>\n",
              "      <td>400.0</td>\n",
              "      <td>1900.0</td>\n",
              "      <td>0.0</td>\n",
              "      <td>67</td>\n",
              "      <td>370.0</td>\n",
              "      <td>377.0</td>\n",
              "      <td>384.0</td>\n",
              "      <td>390.0</td>\n",
              "      <td>397.0</td>\n",
              "      <td>403.0</td>\n",
              "      <td>410.0</td>\n",
              "      <td>416.0</td>\n",
              "      <td>423.0</td>\n",
              "      <td>430.0</td>\n",
              "      <td>436.0</td>\n",
              "      <td>443.0</td>\n",
              "      <td>449.0</td>\n",
              "      <td>456.0</td>\n",
              "      <td>462.0</td>\n",
              "      <td>469.0</td>\n",
              "      <td>476.0</td>\n",
              "      <td>482.0</td>\n",
              "      <td>489.0</td>\n",
              "      <td>495.0</td>\n",
              "      <td>502.0</td>\n",
              "      <td>509.0</td>\n",
              "      <td>515.0</td>\n",
              "      <td>522.0</td>\n",
              "      <td>528.0</td>\n",
              "      <td>535.0</td>\n",
              "      <td>541.0</td>\n",
              "      <td>548.0</td>\n",
              "      <td>555.0</td>\n",
              "      <td>561.0</td>\n",
              "      <td>568.0</td>\n",
              "      <td>574.0</td>\n",
              "      <td>581.0</td>\n",
              "    </tr>\n",
              "    <tr>\n",
              "      <th>1563</th>\n",
              "      <td>MT</td>\n",
              "      <td>WEDGE</td>\n",
              "      <td>WEDGE_U101_B</td>\n",
              "      <td>U101</td>\n",
              "      <td>B</td>\n",
              "      <td>-114.391250</td>\n",
              "      <td>48.875237</td>\n",
              "      <td>-1356697.737</td>\n",
              "      <td>3006203.345</td>\n",
              "      <td>1210.325289</td>\n",
              "      <td>1.2</td>\n",
              "      <td>1.0</td>\n",
              "      <td>0.933013</td>\n",
              "      <td>2.385944</td>\n",
              "      <td>2003</td>\n",
              "      <td>7/16/2015</td>\n",
              "      <td>10.0</td>\n",
              "      <td>75.0</td>\n",
              "      <td>25.0</td>\n",
              "      <td>0.0</td>\n",
              "      <td>0.0</td>\n",
              "      <td>0.0</td>\n",
              "      <td>0.0</td>\n",
              "      <td>0.0</td>\n",
              "      <td>0.0</td>\n",
              "      <td>NaN</td>\n",
              "      <td>78.385417</td>\n",
              "      <td>0.01</td>\n",
              "      <td>0.00</td>\n",
              "      <td>0.70</td>\n",
              "      <td>NaN</td>\n",
              "      <td>8.0</td>\n",
              "      <td>78.0</td>\n",
              "      <td>0.0</td>\n",
              "      <td>0.0</td>\n",
              "      <td>0.0</td>\n",
              "      <td>0.0</td>\n",
              "      <td>0.0</td>\n",
              "      <td>0.0</td>\n",
              "      <td>0.0</td>\n",
              "      <td>...</td>\n",
              "      <td>0.0</td>\n",
              "      <td>0.0</td>\n",
              "      <td>900.0</td>\n",
              "      <td>0.0</td>\n",
              "      <td>300.0</td>\n",
              "      <td>400.0</td>\n",
              "      <td>-47</td>\n",
              "      <td>370.0</td>\n",
              "      <td>377.0</td>\n",
              "      <td>384.0</td>\n",
              "      <td>391.0</td>\n",
              "      <td>398.0</td>\n",
              "      <td>405.0</td>\n",
              "      <td>412.0</td>\n",
              "      <td>419.0</td>\n",
              "      <td>427.0</td>\n",
              "      <td>434.0</td>\n",
              "      <td>441.0</td>\n",
              "      <td>448.0</td>\n",
              "      <td>455.0</td>\n",
              "      <td>462.0</td>\n",
              "      <td>469.0</td>\n",
              "      <td>476.0</td>\n",
              "      <td>484.0</td>\n",
              "      <td>491.0</td>\n",
              "      <td>498.0</td>\n",
              "      <td>505.0</td>\n",
              "      <td>512.0</td>\n",
              "      <td>519.0</td>\n",
              "      <td>526.0</td>\n",
              "      <td>533.0</td>\n",
              "      <td>540.0</td>\n",
              "      <td>548.0</td>\n",
              "      <td>555.0</td>\n",
              "      <td>562.0</td>\n",
              "      <td>569.0</td>\n",
              "      <td>576.0</td>\n",
              "      <td>583.0</td>\n",
              "      <td>590.0</td>\n",
              "      <td>597.0</td>\n",
              "    </tr>\n",
              "    <tr>\n",
              "      <th>1564</th>\n",
              "      <td>MT</td>\n",
              "      <td>WEDGE</td>\n",
              "      <td>WEDGE_U101_D</td>\n",
              "      <td>U101</td>\n",
              "      <td>D</td>\n",
              "      <td>-114.390908</td>\n",
              "      <td>48.874929</td>\n",
              "      <td>-1356679.280</td>\n",
              "      <td>3006165.290</td>\n",
              "      <td>1207.729232</td>\n",
              "      <td>1.4</td>\n",
              "      <td>1.0</td>\n",
              "      <td>0.973633</td>\n",
              "      <td>3.646971</td>\n",
              "      <td>2003</td>\n",
              "      <td>7/16/2015</td>\n",
              "      <td>11.0</td>\n",
              "      <td>85.0</td>\n",
              "      <td>15.0</td>\n",
              "      <td>0.0</td>\n",
              "      <td>0.0</td>\n",
              "      <td>0.0</td>\n",
              "      <td>0.0</td>\n",
              "      <td>0.0</td>\n",
              "      <td>0.0</td>\n",
              "      <td>NaN</td>\n",
              "      <td>87.760417</td>\n",
              "      <td>0.02</td>\n",
              "      <td>0.02</td>\n",
              "      <td>0.02</td>\n",
              "      <td>NaN</td>\n",
              "      <td>16.0</td>\n",
              "      <td>42.0</td>\n",
              "      <td>0.0</td>\n",
              "      <td>0.0</td>\n",
              "      <td>0.0</td>\n",
              "      <td>0.0</td>\n",
              "      <td>0.0</td>\n",
              "      <td>0.0</td>\n",
              "      <td>0.0</td>\n",
              "      <td>...</td>\n",
              "      <td>0.0</td>\n",
              "      <td>0.0</td>\n",
              "      <td>300.0</td>\n",
              "      <td>0.0</td>\n",
              "      <td>600.0</td>\n",
              "      <td>100.0</td>\n",
              "      <td>28</td>\n",
              "      <td>339.0</td>\n",
              "      <td>356.0</td>\n",
              "      <td>373.0</td>\n",
              "      <td>390.0</td>\n",
              "      <td>407.0</td>\n",
              "      <td>425.0</td>\n",
              "      <td>442.0</td>\n",
              "      <td>459.0</td>\n",
              "      <td>476.0</td>\n",
              "      <td>481.0</td>\n",
              "      <td>485.0</td>\n",
              "      <td>490.0</td>\n",
              "      <td>495.0</td>\n",
              "      <td>500.0</td>\n",
              "      <td>505.0</td>\n",
              "      <td>510.0</td>\n",
              "      <td>514.0</td>\n",
              "      <td>519.0</td>\n",
              "      <td>524.0</td>\n",
              "      <td>529.0</td>\n",
              "      <td>534.0</td>\n",
              "      <td>539.0</td>\n",
              "      <td>543.0</td>\n",
              "      <td>548.0</td>\n",
              "      <td>553.0</td>\n",
              "      <td>558.0</td>\n",
              "      <td>563.0</td>\n",
              "      <td>568.0</td>\n",
              "      <td>572.0</td>\n",
              "      <td>577.0</td>\n",
              "      <td>582.0</td>\n",
              "      <td>587.0</td>\n",
              "      <td>592.0</td>\n",
              "    </tr>\n",
              "    <tr>\n",
              "      <th>1565</th>\n",
              "      <td>MT</td>\n",
              "      <td>WEDGE</td>\n",
              "      <td>WEDGE_U101_F</td>\n",
              "      <td>U101</td>\n",
              "      <td>F</td>\n",
              "      <td>-114.391368</td>\n",
              "      <td>48.874719</td>\n",
              "      <td>-1356717.264</td>\n",
              "      <td>3006149.172</td>\n",
              "      <td>1205.175847</td>\n",
              "      <td>1.1</td>\n",
              "      <td>1.0</td>\n",
              "      <td>0.943389</td>\n",
              "      <td>3.109633</td>\n",
              "      <td>2003</td>\n",
              "      <td>7/16/2015</td>\n",
              "      <td>6.0</td>\n",
              "      <td>70.0</td>\n",
              "      <td>30.0</td>\n",
              "      <td>0.0</td>\n",
              "      <td>0.0</td>\n",
              "      <td>0.0</td>\n",
              "      <td>0.0</td>\n",
              "      <td>0.0</td>\n",
              "      <td>0.0</td>\n",
              "      <td>NaN</td>\n",
              "      <td>74.479167</td>\n",
              "      <td>0.05</td>\n",
              "      <td>0.05</td>\n",
              "      <td>1.00</td>\n",
              "      <td>NaN</td>\n",
              "      <td>10.0</td>\n",
              "      <td>55.0</td>\n",
              "      <td>0.0</td>\n",
              "      <td>0.0</td>\n",
              "      <td>0.0</td>\n",
              "      <td>0.0</td>\n",
              "      <td>0.0</td>\n",
              "      <td>0.0</td>\n",
              "      <td>0.0</td>\n",
              "      <td>...</td>\n",
              "      <td>0.0</td>\n",
              "      <td>0.0</td>\n",
              "      <td>1800.0</td>\n",
              "      <td>0.0</td>\n",
              "      <td>0.0</td>\n",
              "      <td>0.0</td>\n",
              "      <td>42</td>\n",
              "      <td>304.0</td>\n",
              "      <td>321.0</td>\n",
              "      <td>337.0</td>\n",
              "      <td>353.0</td>\n",
              "      <td>369.0</td>\n",
              "      <td>386.0</td>\n",
              "      <td>402.0</td>\n",
              "      <td>418.0</td>\n",
              "      <td>434.0</td>\n",
              "      <td>451.0</td>\n",
              "      <td>467.0</td>\n",
              "      <td>483.0</td>\n",
              "      <td>478.0</td>\n",
              "      <td>473.0</td>\n",
              "      <td>467.0</td>\n",
              "      <td>462.0</td>\n",
              "      <td>456.0</td>\n",
              "      <td>451.0</td>\n",
              "      <td>458.0</td>\n",
              "      <td>465.0</td>\n",
              "      <td>472.0</td>\n",
              "      <td>478.0</td>\n",
              "      <td>485.0</td>\n",
              "      <td>492.0</td>\n",
              "      <td>499.0</td>\n",
              "      <td>506.0</td>\n",
              "      <td>513.0</td>\n",
              "      <td>520.0</td>\n",
              "      <td>526.0</td>\n",
              "      <td>533.0</td>\n",
              "      <td>540.0</td>\n",
              "      <td>547.0</td>\n",
              "      <td>554.0</td>\n",
              "    </tr>\n",
              "    <tr>\n",
              "      <th>1566</th>\n",
              "      <td>MT</td>\n",
              "      <td>WEDGE</td>\n",
              "      <td>WEDGE_U101_H</td>\n",
              "      <td>U101</td>\n",
              "      <td>H</td>\n",
              "      <td>-114.391729</td>\n",
              "      <td>48.875021</td>\n",
              "      <td>-1356737.147</td>\n",
              "      <td>3006186.913</td>\n",
              "      <td>1206.872080</td>\n",
              "      <td>1.2</td>\n",
              "      <td>0.9</td>\n",
              "      <td>0.993895</td>\n",
              "      <td>3.321432</td>\n",
              "      <td>2003</td>\n",
              "      <td>7/16/2015</td>\n",
              "      <td>13.0</td>\n",
              "      <td>90.0</td>\n",
              "      <td>6.0</td>\n",
              "      <td>0.0</td>\n",
              "      <td>0.0</td>\n",
              "      <td>3.0</td>\n",
              "      <td>0.0</td>\n",
              "      <td>1.0</td>\n",
              "      <td>0.0</td>\n",
              "      <td>NaN</td>\n",
              "      <td>77.343750</td>\n",
              "      <td>0.01</td>\n",
              "      <td>0.02</td>\n",
              "      <td>0.00</td>\n",
              "      <td>NaN</td>\n",
              "      <td>10.0</td>\n",
              "      <td>23.0</td>\n",
              "      <td>0.0</td>\n",
              "      <td>0.0</td>\n",
              "      <td>0.0</td>\n",
              "      <td>0.0</td>\n",
              "      <td>0.0</td>\n",
              "      <td>0.0</td>\n",
              "      <td>0.0</td>\n",
              "      <td>...</td>\n",
              "      <td>0.0</td>\n",
              "      <td>0.0</td>\n",
              "      <td>2400.0</td>\n",
              "      <td>0.0</td>\n",
              "      <td>1200.0</td>\n",
              "      <td>100.0</td>\n",
              "      <td>18</td>\n",
              "      <td>308.0</td>\n",
              "      <td>326.0</td>\n",
              "      <td>344.0</td>\n",
              "      <td>363.0</td>\n",
              "      <td>381.0</td>\n",
              "      <td>399.0</td>\n",
              "      <td>417.0</td>\n",
              "      <td>436.0</td>\n",
              "      <td>454.0</td>\n",
              "      <td>472.0</td>\n",
              "      <td>475.0</td>\n",
              "      <td>478.0</td>\n",
              "      <td>481.0</td>\n",
              "      <td>484.0</td>\n",
              "      <td>487.0</td>\n",
              "      <td>490.0</td>\n",
              "      <td>493.0</td>\n",
              "      <td>497.0</td>\n",
              "      <td>500.0</td>\n",
              "      <td>503.0</td>\n",
              "      <td>506.0</td>\n",
              "      <td>509.0</td>\n",
              "      <td>512.0</td>\n",
              "      <td>515.0</td>\n",
              "      <td>518.0</td>\n",
              "      <td>521.0</td>\n",
              "      <td>524.0</td>\n",
              "      <td>527.0</td>\n",
              "      <td>530.0</td>\n",
              "      <td>533.0</td>\n",
              "      <td>536.0</td>\n",
              "      <td>539.0</td>\n",
              "      <td>543.0</td>\n",
              "    </tr>\n",
              "  </tbody>\n",
              "</table>\n",
              "<p>5 rows × 163 columns</p>\n",
              "</div>"
            ],
            "text/plain": [
              "     STATE   FIRE          PLOT  SITE  ... NBR_2013  NBR_2014  NBR_2015  NBR_2016\n",
              "1562    MT  WEDGE  WEDGE_U101_A  U101  ...    561.0     568.0     574.0     581.0\n",
              "1563    MT  WEDGE  WEDGE_U101_B  U101  ...    576.0     583.0     590.0     597.0\n",
              "1564    MT  WEDGE  WEDGE_U101_D  U101  ...    577.0     582.0     587.0     592.0\n",
              "1565    MT  WEDGE  WEDGE_U101_F  U101  ...    533.0     540.0     547.0     554.0\n",
              "1566    MT  WEDGE  WEDGE_U101_H  U101  ...    533.0     536.0     539.0     543.0\n",
              "\n",
              "[5 rows x 163 columns]"
            ]
          },
          "metadata": {
            "tags": []
          },
          "execution_count": 7
        }
      ]
    },
    {
      "cell_type": "code",
      "metadata": {
        "id": "jYq7Cf0YViuc",
        "colab_type": "code",
        "outputId": "fe830aa9-43ad-4988-cdee-d109906513ca",
        "colab": {
          "base_uri": "https://localhost:8080/",
          "height": 34
        }
      },
      "source": [
        "df.shape"
      ],
      "execution_count": 8,
      "outputs": [
        {
          "output_type": "execute_result",
          "data": {
            "text/plain": [
              "(1567, 163)"
            ]
          },
          "metadata": {
            "tags": []
          },
          "execution_count": 8
        }
      ]
    },
    {
      "cell_type": "code",
      "metadata": {
        "id": "edroRhGz6H5d",
        "colab_type": "code",
        "outputId": "83a5854b-1dae-42e6-c32f-a658a785c801",
        "colab": {
          "base_uri": "https://localhost:8080/",
          "height": 221
        }
      },
      "source": [
        "df.dtypes"
      ],
      "execution_count": 9,
      "outputs": [
        {
          "output_type": "execute_result",
          "data": {
            "text/plain": [
              "STATE           object\n",
              "FIRE            object\n",
              "PLOT            object\n",
              "SITE            object\n",
              "PLOT_LETTER     object\n",
              "                ...   \n",
              "NBR_2012       float64\n",
              "NBR_2013       float64\n",
              "NBR_2014       float64\n",
              "NBR_2015       float64\n",
              "NBR_2016       float64\n",
              "Length: 163, dtype: object"
            ]
          },
          "metadata": {
            "tags": []
          },
          "execution_count": 9
        }
      ]
    },
    {
      "cell_type": "code",
      "metadata": {
        "id": "Mriymm706YoK",
        "colab_type": "code",
        "outputId": "a41889db-afca-4f8b-9cb3-834bf802f45d",
        "colab": {
          "base_uri": "https://localhost:8080/",
          "height": 102
        }
      },
      "source": [
        "df.info()"
      ],
      "execution_count": 10,
      "outputs": [
        {
          "output_type": "stream",
          "text": [
            "<class 'pandas.core.frame.DataFrame'>\n",
            "RangeIndex: 1567 entries, 0 to 1566\n",
            "Columns: 163 entries, STATE to NBR_2016\n",
            "dtypes: float64(155), int64(2), object(6)\n",
            "memory usage: 1.9+ MB\n"
          ],
          "name": "stdout"
        }
      ]
    },
    {
      "cell_type": "code",
      "metadata": {
        "id": "-QgM7GCv44C4",
        "colab_type": "code",
        "outputId": "c3368e70-1cb1-4fc9-a7f8-85508d598502",
        "colab": {
          "base_uri": "https://localhost:8080/",
          "height": 346
        }
      },
      "source": [
        "df.describe()"
      ],
      "execution_count": 11,
      "outputs": [
        {
          "output_type": "execute_result",
          "data": {
            "text/html": [
              "<div>\n",
              "<style scoped>\n",
              "    .dataframe tbody tr th:only-of-type {\n",
              "        vertical-align: middle;\n",
              "    }\n",
              "\n",
              "    .dataframe tbody tr th {\n",
              "        vertical-align: top;\n",
              "    }\n",
              "\n",
              "    .dataframe thead th {\n",
              "        text-align: right;\n",
              "    }\n",
              "</style>\n",
              "<table border=\"1\" class=\"dataframe\">\n",
              "  <thead>\n",
              "    <tr style=\"text-align: right;\">\n",
              "      <th></th>\n",
              "      <th>LONGITUDE</th>\n",
              "      <th>LATITUDE</th>\n",
              "      <th>X_ALBERS</th>\n",
              "      <th>Y_ALBERS</th>\n",
              "      <th>ELEVATION</th>\n",
              "      <th>VERT_PREC</th>\n",
              "      <th>HORZ_PREC</th>\n",
              "      <th>TRASP</th>\n",
              "      <th>SLOPE</th>\n",
              "      <th>BURN_YEAR</th>\n",
              "      <th>UNDER_RICHNESS</th>\n",
              "      <th>UNDER_GRN_PERC</th>\n",
              "      <th>UNDER_NPV_PERC</th>\n",
              "      <th>UNDER_NPV_CHAR_PERC</th>\n",
              "      <th>ASH_PERC</th>\n",
              "      <th>ROCK_PERC</th>\n",
              "      <th>ROCK_CHAR_PERC</th>\n",
              "      <th>SOIL_PERC</th>\n",
              "      <th>SOIL_CHAR_PERC</th>\n",
              "      <th>TALL_SHRUB_PERC</th>\n",
              "      <th>CANOPY_AVE</th>\n",
              "      <th>FUEL_1HR</th>\n",
              "      <th>FUEL_10HR</th>\n",
              "      <th>FUEL_100HR</th>\n",
              "      <th>FUEL_1000HR</th>\n",
              "      <th>LITTER_DEPTH</th>\n",
              "      <th>DUFF_DEPTH</th>\n",
              "      <th>ABGR_LIVE_BA</th>\n",
              "      <th>ABGR_DEAD_BA</th>\n",
              "      <th>ABLA_LIVE_BA</th>\n",
              "      <th>ABLA_DEAD_BA</th>\n",
              "      <th>BEPA_LIVE_BA</th>\n",
              "      <th>BEPA_DEAD_BA</th>\n",
              "      <th>LAOC_LIVE_BA</th>\n",
              "      <th>LAOC_DEAD_BA</th>\n",
              "      <th>PICO_LIVE_BA</th>\n",
              "      <th>PICO_DEAD_BA</th>\n",
              "      <th>PIEN_LIVE_BA</th>\n",
              "      <th>PIEN_DEAD_BA</th>\n",
              "      <th>PIGL_LIVE_BA</th>\n",
              "      <th>...</th>\n",
              "      <th>OTHER_SAP_LIVE</th>\n",
              "      <th>OTHER_SAP_DEAD</th>\n",
              "      <th>TOTAL_SEED_LIVE</th>\n",
              "      <th>TOTAL_SEED_DEAD</th>\n",
              "      <th>TOTAL_SAP_LIVE</th>\n",
              "      <th>TOTAL_SAP_DEAD</th>\n",
              "      <th>DNBR</th>\n",
              "      <th>NBR_1984</th>\n",
              "      <th>NBR_1985</th>\n",
              "      <th>NBR_1986</th>\n",
              "      <th>NBR_1987</th>\n",
              "      <th>NBR_1988</th>\n",
              "      <th>NBR_1989</th>\n",
              "      <th>NBR_1990</th>\n",
              "      <th>NBR_1991</th>\n",
              "      <th>NBR_1992</th>\n",
              "      <th>NBR_1993</th>\n",
              "      <th>NBR_1994</th>\n",
              "      <th>NBR_1995</th>\n",
              "      <th>NBR_1996</th>\n",
              "      <th>NBR_1997</th>\n",
              "      <th>NBR_1998</th>\n",
              "      <th>NBR_1999</th>\n",
              "      <th>NBR_2000</th>\n",
              "      <th>NBR_2001</th>\n",
              "      <th>NBR_2002</th>\n",
              "      <th>NBR_2003</th>\n",
              "      <th>NBR_2004</th>\n",
              "      <th>NBR_2005</th>\n",
              "      <th>NBR_2006</th>\n",
              "      <th>NBR_2007</th>\n",
              "      <th>NBR_2008</th>\n",
              "      <th>NBR_2009</th>\n",
              "      <th>NBR_2010</th>\n",
              "      <th>NBR_2011</th>\n",
              "      <th>NBR_2012</th>\n",
              "      <th>NBR_2013</th>\n",
              "      <th>NBR_2014</th>\n",
              "      <th>NBR_2015</th>\n",
              "      <th>NBR_2016</th>\n",
              "    </tr>\n",
              "  </thead>\n",
              "  <tbody>\n",
              "    <tr>\n",
              "      <th>count</th>\n",
              "      <td>1567.000000</td>\n",
              "      <td>1567.000000</td>\n",
              "      <td>1.567000e+03</td>\n",
              "      <td>1.567000e+03</td>\n",
              "      <td>1567.000000</td>\n",
              "      <td>1381.000000</td>\n",
              "      <td>1381.000000</td>\n",
              "      <td>1.567000e+03</td>\n",
              "      <td>1567.000000</td>\n",
              "      <td>1567.00000</td>\n",
              "      <td>1537.000000</td>\n",
              "      <td>1537.000000</td>\n",
              "      <td>1537.000000</td>\n",
              "      <td>1534.000000</td>\n",
              "      <td>1537.000000</td>\n",
              "      <td>1536.000000</td>\n",
              "      <td>1514.000000</td>\n",
              "      <td>1537.000000</td>\n",
              "      <td>1529.000000</td>\n",
              "      <td>240.000000</td>\n",
              "      <td>1166.000000</td>\n",
              "      <td>1237.000000</td>\n",
              "      <td>1236.000000</td>\n",
              "      <td>1235.000000</td>\n",
              "      <td>242.000000</td>\n",
              "      <td>1233.000000</td>\n",
              "      <td>1233.000000</td>\n",
              "      <td>1237.000000</td>\n",
              "      <td>1237.000000</td>\n",
              "      <td>1237.000000</td>\n",
              "      <td>1237.000000</td>\n",
              "      <td>1237.000000</td>\n",
              "      <td>1237.000000</td>\n",
              "      <td>1237.000000</td>\n",
              "      <td>1237.000000</td>\n",
              "      <td>1237.000000</td>\n",
              "      <td>1237.000000</td>\n",
              "      <td>1237.000000</td>\n",
              "      <td>1237.000000</td>\n",
              "      <td>1237.000000</td>\n",
              "      <td>...</td>\n",
              "      <td>1100.000000</td>\n",
              "      <td>1100.000000</td>\n",
              "      <td>1098.000000</td>\n",
              "      <td>1100.000000</td>\n",
              "      <td>1100.000000</td>\n",
              "      <td>1100.000000</td>\n",
              "      <td>1567.000000</td>\n",
              "      <td>1406.000000</td>\n",
              "      <td>1406.000000</td>\n",
              "      <td>1406.000000</td>\n",
              "      <td>1406.000000</td>\n",
              "      <td>1406.000000</td>\n",
              "      <td>1406.000000</td>\n",
              "      <td>1406.000000</td>\n",
              "      <td>1406.000000</td>\n",
              "      <td>1406.000000</td>\n",
              "      <td>1406.000000</td>\n",
              "      <td>1406.000000</td>\n",
              "      <td>1406.000000</td>\n",
              "      <td>1406.000000</td>\n",
              "      <td>1406.000000</td>\n",
              "      <td>1406.000000</td>\n",
              "      <td>1406.000000</td>\n",
              "      <td>1406.000000</td>\n",
              "      <td>1406.000000</td>\n",
              "      <td>1406.000000</td>\n",
              "      <td>1406.000000</td>\n",
              "      <td>1406.000000</td>\n",
              "      <td>1406.000000</td>\n",
              "      <td>1406.000000</td>\n",
              "      <td>1406.000000</td>\n",
              "      <td>1406.000000</td>\n",
              "      <td>1406.000000</td>\n",
              "      <td>1406.000000</td>\n",
              "      <td>1406.000000</td>\n",
              "      <td>1406.000000</td>\n",
              "      <td>1406.000000</td>\n",
              "      <td>1406.000000</td>\n",
              "      <td>1406.000000</td>\n",
              "      <td>1406.000000</td>\n",
              "    </tr>\n",
              "    <tr>\n",
              "      <th>mean</th>\n",
              "      <td>-117.682655</td>\n",
              "      <td>46.133710</td>\n",
              "      <td>-1.598725e+06</td>\n",
              "      <td>2.769513e+06</td>\n",
              "      <td>1567.265914</td>\n",
              "      <td>1.099783</td>\n",
              "      <td>0.766691</td>\n",
              "      <td>4.790093e-01</td>\n",
              "      <td>12.840213</td>\n",
              "      <td>2004.70134</td>\n",
              "      <td>9.789850</td>\n",
              "      <td>48.428757</td>\n",
              "      <td>37.906962</td>\n",
              "      <td>10.811604</td>\n",
              "      <td>0.005205</td>\n",
              "      <td>3.484375</td>\n",
              "      <td>0.806473</td>\n",
              "      <td>10.133377</td>\n",
              "      <td>4.699150</td>\n",
              "      <td>4.920833</td>\n",
              "      <td>33.255666</td>\n",
              "      <td>0.075610</td>\n",
              "      <td>0.125421</td>\n",
              "      <td>0.222178</td>\n",
              "      <td>1.903802</td>\n",
              "      <td>22.916545</td>\n",
              "      <td>15.438767</td>\n",
              "      <td>0.176766</td>\n",
              "      <td>0.093833</td>\n",
              "      <td>0.264721</td>\n",
              "      <td>0.491772</td>\n",
              "      <td>0.014048</td>\n",
              "      <td>0.020550</td>\n",
              "      <td>0.501586</td>\n",
              "      <td>0.212082</td>\n",
              "      <td>0.859484</td>\n",
              "      <td>1.049024</td>\n",
              "      <td>0.291728</td>\n",
              "      <td>0.124902</td>\n",
              "      <td>0.034775</td>\n",
              "      <td>...</td>\n",
              "      <td>0.181818</td>\n",
              "      <td>1.272727</td>\n",
              "      <td>2702.964987</td>\n",
              "      <td>165.666667</td>\n",
              "      <td>362.848485</td>\n",
              "      <td>337.363636</td>\n",
              "      <td>373.372049</td>\n",
              "      <td>373.332859</td>\n",
              "      <td>370.026316</td>\n",
              "      <td>371.762447</td>\n",
              "      <td>371.469417</td>\n",
              "      <td>374.380512</td>\n",
              "      <td>367.959459</td>\n",
              "      <td>369.916785</td>\n",
              "      <td>372.840683</td>\n",
              "      <td>375.315789</td>\n",
              "      <td>376.766714</td>\n",
              "      <td>378.617354</td>\n",
              "      <td>382.532006</td>\n",
              "      <td>383.000711</td>\n",
              "      <td>384.639403</td>\n",
              "      <td>386.497155</td>\n",
              "      <td>388.064723</td>\n",
              "      <td>388.320057</td>\n",
              "      <td>372.168563</td>\n",
              "      <td>314.571835</td>\n",
              "      <td>295.381935</td>\n",
              "      <td>255.810811</td>\n",
              "      <td>245.755334</td>\n",
              "      <td>209.266714</td>\n",
              "      <td>116.589616</td>\n",
              "      <td>86.955903</td>\n",
              "      <td>121.566145</td>\n",
              "      <td>148.420341</td>\n",
              "      <td>166.655050</td>\n",
              "      <td>179.985775</td>\n",
              "      <td>191.949502</td>\n",
              "      <td>202.330725</td>\n",
              "      <td>211.457326</td>\n",
              "      <td>218.581792</td>\n",
              "    </tr>\n",
              "    <tr>\n",
              "      <th>std</th>\n",
              "      <td>9.838144</td>\n",
              "      <td>6.784918</td>\n",
              "      <td>5.253819e+05</td>\n",
              "      <td>8.640954e+05</td>\n",
              "      <td>492.038911</td>\n",
              "      <td>1.671095</td>\n",
              "      <td>1.088526</td>\n",
              "      <td>3.636279e-01</td>\n",
              "      <td>9.275662</td>\n",
              "      <td>2.16353</td>\n",
              "      <td>3.827423</td>\n",
              "      <td>26.421938</td>\n",
              "      <td>25.300636</td>\n",
              "      <td>19.317962</td>\n",
              "      <td>0.148689</td>\n",
              "      <td>8.407520</td>\n",
              "      <td>6.809770</td>\n",
              "      <td>17.226918</td>\n",
              "      <td>17.089953</td>\n",
              "      <td>11.320270</td>\n",
              "      <td>29.223677</td>\n",
              "      <td>0.148403</td>\n",
              "      <td>0.279337</td>\n",
              "      <td>0.607844</td>\n",
              "      <td>2.211046</td>\n",
              "      <td>38.419278</td>\n",
              "      <td>30.058299</td>\n",
              "      <td>1.547286</td>\n",
              "      <td>0.983656</td>\n",
              "      <td>1.908731</td>\n",
              "      <td>2.799187</td>\n",
              "      <td>0.275818</td>\n",
              "      <td>0.243308</td>\n",
              "      <td>2.422468</td>\n",
              "      <td>2.001539</td>\n",
              "      <td>4.581106</td>\n",
              "      <td>4.042192</td>\n",
              "      <td>1.879908</td>\n",
              "      <td>1.168986</td>\n",
              "      <td>0.463492</td>\n",
              "      <td>...</td>\n",
              "      <td>6.030227</td>\n",
              "      <td>33.836009</td>\n",
              "      <td>7127.277582</td>\n",
              "      <td>847.873758</td>\n",
              "      <td>1389.134711</td>\n",
              "      <td>1052.442945</td>\n",
              "      <td>287.467635</td>\n",
              "      <td>200.012313</td>\n",
              "      <td>195.928286</td>\n",
              "      <td>193.183560</td>\n",
              "      <td>193.672601</td>\n",
              "      <td>193.176985</td>\n",
              "      <td>206.054121</td>\n",
              "      <td>206.176712</td>\n",
              "      <td>205.053650</td>\n",
              "      <td>203.889119</td>\n",
              "      <td>204.078356</td>\n",
              "      <td>203.440080</td>\n",
              "      <td>202.643825</td>\n",
              "      <td>202.830825</td>\n",
              "      <td>203.069706</td>\n",
              "      <td>202.684056</td>\n",
              "      <td>202.064478</td>\n",
              "      <td>201.786727</td>\n",
              "      <td>220.166196</td>\n",
              "      <td>302.273966</td>\n",
              "      <td>285.229777</td>\n",
              "      <td>266.084007</td>\n",
              "      <td>260.296390</td>\n",
              "      <td>241.270695</td>\n",
              "      <td>258.432513</td>\n",
              "      <td>250.749361</td>\n",
              "      <td>231.779628</td>\n",
              "      <td>219.455227</td>\n",
              "      <td>217.461341</td>\n",
              "      <td>216.321153</td>\n",
              "      <td>216.933995</td>\n",
              "      <td>218.608438</td>\n",
              "      <td>222.518923</td>\n",
              "      <td>230.047472</td>\n",
              "    </tr>\n",
              "    <tr>\n",
              "      <th>min</th>\n",
              "      <td>-142.669762</td>\n",
              "      <td>34.268036</td>\n",
              "      <td>-2.615244e+06</td>\n",
              "      <td>1.458860e+06</td>\n",
              "      <td>490.002025</td>\n",
              "      <td>0.200000</td>\n",
              "      <td>0.200000</td>\n",
              "      <td>2.570000e-08</td>\n",
              "      <td>0.106462</td>\n",
              "      <td>2000.00000</td>\n",
              "      <td>0.000000</td>\n",
              "      <td>0.000000</td>\n",
              "      <td>0.000000</td>\n",
              "      <td>0.000000</td>\n",
              "      <td>0.000000</td>\n",
              "      <td>0.000000</td>\n",
              "      <td>0.000000</td>\n",
              "      <td>0.000000</td>\n",
              "      <td>0.000000</td>\n",
              "      <td>0.000000</td>\n",
              "      <td>0.000000</td>\n",
              "      <td>0.000000</td>\n",
              "      <td>0.000000</td>\n",
              "      <td>0.000000</td>\n",
              "      <td>0.000000</td>\n",
              "      <td>0.000000</td>\n",
              "      <td>0.000000</td>\n",
              "      <td>0.000000</td>\n",
              "      <td>0.000000</td>\n",
              "      <td>0.000000</td>\n",
              "      <td>0.000000</td>\n",
              "      <td>0.000000</td>\n",
              "      <td>0.000000</td>\n",
              "      <td>0.000000</td>\n",
              "      <td>0.000000</td>\n",
              "      <td>0.000000</td>\n",
              "      <td>0.000000</td>\n",
              "      <td>0.000000</td>\n",
              "      <td>0.000000</td>\n",
              "      <td>0.000000</td>\n",
              "      <td>...</td>\n",
              "      <td>0.000000</td>\n",
              "      <td>0.000000</td>\n",
              "      <td>0.000000</td>\n",
              "      <td>0.000000</td>\n",
              "      <td>0.000000</td>\n",
              "      <td>0.000000</td>\n",
              "      <td>-387.000000</td>\n",
              "      <td>-121.000000</td>\n",
              "      <td>-109.000000</td>\n",
              "      <td>-97.000000</td>\n",
              "      <td>-86.000000</td>\n",
              "      <td>-76.000000</td>\n",
              "      <td>-479.000000</td>\n",
              "      <td>-434.000000</td>\n",
              "      <td>-403.000000</td>\n",
              "      <td>-344.000000</td>\n",
              "      <td>-305.000000</td>\n",
              "      <td>-268.000000</td>\n",
              "      <td>-238.000000</td>\n",
              "      <td>-227.000000</td>\n",
              "      <td>-216.000000</td>\n",
              "      <td>-204.000000</td>\n",
              "      <td>-193.000000</td>\n",
              "      <td>-182.000000</td>\n",
              "      <td>-472.000000</td>\n",
              "      <td>-495.000000</td>\n",
              "      <td>-471.000000</td>\n",
              "      <td>-472.000000</td>\n",
              "      <td>-499.000000</td>\n",
              "      <td>-418.000000</td>\n",
              "      <td>-463.000000</td>\n",
              "      <td>-491.000000</td>\n",
              "      <td>-383.000000</td>\n",
              "      <td>-332.000000</td>\n",
              "      <td>-280.000000</td>\n",
              "      <td>-232.000000</td>\n",
              "      <td>-185.000000</td>\n",
              "      <td>-166.000000</td>\n",
              "      <td>-163.000000</td>\n",
              "      <td>-192.000000</td>\n",
              "    </tr>\n",
              "    <tr>\n",
              "      <th>25%</th>\n",
              "      <td>-119.636079</td>\n",
              "      <td>43.785537</td>\n",
              "      <td>-1.871506e+06</td>\n",
              "      <td>2.531865e+06</td>\n",
              "      <td>1291.743855</td>\n",
              "      <td>0.500000</td>\n",
              "      <td>0.400000</td>\n",
              "      <td>1.122103e-01</td>\n",
              "      <td>4.815134</td>\n",
              "      <td>2003.00000</td>\n",
              "      <td>7.000000</td>\n",
              "      <td>25.000000</td>\n",
              "      <td>15.000000</td>\n",
              "      <td>0.000000</td>\n",
              "      <td>0.000000</td>\n",
              "      <td>0.000000</td>\n",
              "      <td>0.000000</td>\n",
              "      <td>0.000000</td>\n",
              "      <td>0.000000</td>\n",
              "      <td>0.000000</td>\n",
              "      <td>8.072917</td>\n",
              "      <td>0.010000</td>\n",
              "      <td>0.010000</td>\n",
              "      <td>0.000000</td>\n",
              "      <td>0.200000</td>\n",
              "      <td>7.000000</td>\n",
              "      <td>0.000000</td>\n",
              "      <td>0.000000</td>\n",
              "      <td>0.000000</td>\n",
              "      <td>0.000000</td>\n",
              "      <td>0.000000</td>\n",
              "      <td>0.000000</td>\n",
              "      <td>0.000000</td>\n",
              "      <td>0.000000</td>\n",
              "      <td>0.000000</td>\n",
              "      <td>0.000000</td>\n",
              "      <td>0.000000</td>\n",
              "      <td>0.000000</td>\n",
              "      <td>0.000000</td>\n",
              "      <td>0.000000</td>\n",
              "      <td>...</td>\n",
              "      <td>0.000000</td>\n",
              "      <td>0.000000</td>\n",
              "      <td>0.000000</td>\n",
              "      <td>0.000000</td>\n",
              "      <td>0.000000</td>\n",
              "      <td>0.000000</td>\n",
              "      <td>142.500000</td>\n",
              "      <td>208.000000</td>\n",
              "      <td>208.000000</td>\n",
              "      <td>213.000000</td>\n",
              "      <td>216.000000</td>\n",
              "      <td>221.250000</td>\n",
              "      <td>221.000000</td>\n",
              "      <td>222.000000</td>\n",
              "      <td>224.250000</td>\n",
              "      <td>226.250000</td>\n",
              "      <td>223.000000</td>\n",
              "      <td>225.250000</td>\n",
              "      <td>228.000000</td>\n",
              "      <td>229.000000</td>\n",
              "      <td>229.000000</td>\n",
              "      <td>230.000000</td>\n",
              "      <td>231.250000</td>\n",
              "      <td>231.000000</td>\n",
              "      <td>213.250000</td>\n",
              "      <td>144.250000</td>\n",
              "      <td>110.000000</td>\n",
              "      <td>69.000000</td>\n",
              "      <td>71.250000</td>\n",
              "      <td>44.000000</td>\n",
              "      <td>-55.000000</td>\n",
              "      <td>-80.000000</td>\n",
              "      <td>-43.000000</td>\n",
              "      <td>-8.750000</td>\n",
              "      <td>5.000000</td>\n",
              "      <td>14.000000</td>\n",
              "      <td>24.000000</td>\n",
              "      <td>25.250000</td>\n",
              "      <td>31.500000</td>\n",
              "      <td>34.250000</td>\n",
              "    </tr>\n",
              "    <tr>\n",
              "      <th>50%</th>\n",
              "      <td>-117.555712</td>\n",
              "      <td>44.584781</td>\n",
              "      <td>-1.655243e+06</td>\n",
              "      <td>2.563801e+06</td>\n",
              "      <td>1574.967301</td>\n",
              "      <td>0.900000</td>\n",
              "      <td>0.600000</td>\n",
              "      <td>4.349430e-01</td>\n",
              "      <td>10.546506</td>\n",
              "      <td>2005.00000</td>\n",
              "      <td>9.000000</td>\n",
              "      <td>45.000000</td>\n",
              "      <td>33.000000</td>\n",
              "      <td>2.000000</td>\n",
              "      <td>0.000000</td>\n",
              "      <td>0.000000</td>\n",
              "      <td>0.000000</td>\n",
              "      <td>2.000000</td>\n",
              "      <td>0.000000</td>\n",
              "      <td>0.000000</td>\n",
              "      <td>24.479167</td>\n",
              "      <td>0.030000</td>\n",
              "      <td>0.030000</td>\n",
              "      <td>0.000000</td>\n",
              "      <td>1.025000</td>\n",
              "      <td>13.000000</td>\n",
              "      <td>6.000000</td>\n",
              "      <td>0.000000</td>\n",
              "      <td>0.000000</td>\n",
              "      <td>0.000000</td>\n",
              "      <td>0.000000</td>\n",
              "      <td>0.000000</td>\n",
              "      <td>0.000000</td>\n",
              "      <td>0.000000</td>\n",
              "      <td>0.000000</td>\n",
              "      <td>0.000000</td>\n",
              "      <td>0.000000</td>\n",
              "      <td>0.000000</td>\n",
              "      <td>0.000000</td>\n",
              "      <td>0.000000</td>\n",
              "      <td>...</td>\n",
              "      <td>0.000000</td>\n",
              "      <td>0.000000</td>\n",
              "      <td>344.444444</td>\n",
              "      <td>0.000000</td>\n",
              "      <td>0.000000</td>\n",
              "      <td>0.000000</td>\n",
              "      <td>321.000000</td>\n",
              "      <td>350.000000</td>\n",
              "      <td>351.000000</td>\n",
              "      <td>357.000000</td>\n",
              "      <td>358.000000</td>\n",
              "      <td>359.500000</td>\n",
              "      <td>356.000000</td>\n",
              "      <td>357.500000</td>\n",
              "      <td>363.000000</td>\n",
              "      <td>367.000000</td>\n",
              "      <td>371.000000</td>\n",
              "      <td>373.000000</td>\n",
              "      <td>378.000000</td>\n",
              "      <td>380.000000</td>\n",
              "      <td>380.500000</td>\n",
              "      <td>379.500000</td>\n",
              "      <td>382.500000</td>\n",
              "      <td>378.500000</td>\n",
              "      <td>358.000000</td>\n",
              "      <td>344.000000</td>\n",
              "      <td>316.500000</td>\n",
              "      <td>261.500000</td>\n",
              "      <td>247.500000</td>\n",
              "      <td>215.500000</td>\n",
              "      <td>89.500000</td>\n",
              "      <td>67.000000</td>\n",
              "      <td>82.500000</td>\n",
              "      <td>102.500000</td>\n",
              "      <td>132.000000</td>\n",
              "      <td>143.500000</td>\n",
              "      <td>156.000000</td>\n",
              "      <td>167.000000</td>\n",
              "      <td>177.500000</td>\n",
              "      <td>185.000000</td>\n",
              "    </tr>\n",
              "    <tr>\n",
              "      <th>75%</th>\n",
              "      <td>-114.164883</td>\n",
              "      <td>48.483027</td>\n",
              "      <td>-1.359705e+06</td>\n",
              "      <td>2.962163e+06</td>\n",
              "      <td>1796.289107</td>\n",
              "      <td>1.400000</td>\n",
              "      <td>0.900000</td>\n",
              "      <td>8.612172e-01</td>\n",
              "      <td>19.490648</td>\n",
              "      <td>2007.00000</td>\n",
              "      <td>12.000000</td>\n",
              "      <td>70.000000</td>\n",
              "      <td>58.000000</td>\n",
              "      <td>10.000000</td>\n",
              "      <td>0.000000</td>\n",
              "      <td>2.000000</td>\n",
              "      <td>0.000000</td>\n",
              "      <td>10.000000</td>\n",
              "      <td>0.000000</td>\n",
              "      <td>4.000000</td>\n",
              "      <td>53.059896</td>\n",
              "      <td>0.070000</td>\n",
              "      <td>0.080000</td>\n",
              "      <td>0.200000</td>\n",
              "      <td>3.000000</td>\n",
              "      <td>21.000000</td>\n",
              "      <td>15.000000</td>\n",
              "      <td>0.000000</td>\n",
              "      <td>0.000000</td>\n",
              "      <td>0.000000</td>\n",
              "      <td>0.000000</td>\n",
              "      <td>0.000000</td>\n",
              "      <td>0.000000</td>\n",
              "      <td>0.000000</td>\n",
              "      <td>0.000000</td>\n",
              "      <td>0.000000</td>\n",
              "      <td>0.000000</td>\n",
              "      <td>0.000000</td>\n",
              "      <td>0.000000</td>\n",
              "      <td>0.000000</td>\n",
              "      <td>...</td>\n",
              "      <td>0.000000</td>\n",
              "      <td>0.000000</td>\n",
              "      <td>2200.000000</td>\n",
              "      <td>0.000000</td>\n",
              "      <td>0.000000</td>\n",
              "      <td>0.000000</td>\n",
              "      <td>612.000000</td>\n",
              "      <td>550.750000</td>\n",
              "      <td>546.000000</td>\n",
              "      <td>544.000000</td>\n",
              "      <td>544.000000</td>\n",
              "      <td>548.000000</td>\n",
              "      <td>552.000000</td>\n",
              "      <td>556.000000</td>\n",
              "      <td>557.000000</td>\n",
              "      <td>559.000000</td>\n",
              "      <td>560.000000</td>\n",
              "      <td>560.750000</td>\n",
              "      <td>560.000000</td>\n",
              "      <td>560.000000</td>\n",
              "      <td>562.750000</td>\n",
              "      <td>564.000000</td>\n",
              "      <td>564.000000</td>\n",
              "      <td>565.750000</td>\n",
              "      <td>566.000000</td>\n",
              "      <td>566.000000</td>\n",
              "      <td>535.750000</td>\n",
              "      <td>459.750000</td>\n",
              "      <td>426.000000</td>\n",
              "      <td>376.750000</td>\n",
              "      <td>288.750000</td>\n",
              "      <td>241.750000</td>\n",
              "      <td>266.000000</td>\n",
              "      <td>281.000000</td>\n",
              "      <td>303.000000</td>\n",
              "      <td>320.750000</td>\n",
              "      <td>330.750000</td>\n",
              "      <td>346.500000</td>\n",
              "      <td>362.000000</td>\n",
              "      <td>377.000000</td>\n",
              "    </tr>\n",
              "    <tr>\n",
              "      <th>max</th>\n",
              "      <td>-103.420050</td>\n",
              "      <td>64.085681</td>\n",
              "      <td>-5.902633e+05</td>\n",
              "      <td>5.080104e+06</td>\n",
              "      <td>2868.177424</td>\n",
              "      <td>53.400000</td>\n",
              "      <td>35.800000</td>\n",
              "      <td>9.999982e-01</td>\n",
              "      <td>44.675678</td>\n",
              "      <td>2007.00000</td>\n",
              "      <td>25.000000</td>\n",
              "      <td>100.000000</td>\n",
              "      <td>100.000000</td>\n",
              "      <td>100.000000</td>\n",
              "      <td>5.000000</td>\n",
              "      <td>83.000000</td>\n",
              "      <td>95.000000</td>\n",
              "      <td>90.000000</td>\n",
              "      <td>100.000000</td>\n",
              "      <td>75.000000</td>\n",
              "      <td>102.864583</td>\n",
              "      <td>1.500000</td>\n",
              "      <td>3.000000</td>\n",
              "      <td>5.000000</td>\n",
              "      <td>13.000000</td>\n",
              "      <td>440.000000</td>\n",
              "      <td>270.000000</td>\n",
              "      <td>24.000000</td>\n",
              "      <td>21.569861</td>\n",
              "      <td>38.000000</td>\n",
              "      <td>34.000000</td>\n",
              "      <td>8.651122</td>\n",
              "      <td>4.000000</td>\n",
              "      <td>26.833364</td>\n",
              "      <td>51.541283</td>\n",
              "      <td>54.000000</td>\n",
              "      <td>40.000000</td>\n",
              "      <td>25.151002</td>\n",
              "      <td>29.723393</td>\n",
              "      <td>9.406910</td>\n",
              "      <td>...</td>\n",
              "      <td>200.000000</td>\n",
              "      <td>1100.000000</td>\n",
              "      <td>92000.000000</td>\n",
              "      <td>10400.000000</td>\n",
              "      <td>19600.000000</td>\n",
              "      <td>9600.000000</td>\n",
              "      <td>1225.000000</td>\n",
              "      <td>817.000000</td>\n",
              "      <td>816.000000</td>\n",
              "      <td>814.000000</td>\n",
              "      <td>813.000000</td>\n",
              "      <td>811.000000</td>\n",
              "      <td>810.000000</td>\n",
              "      <td>808.000000</td>\n",
              "      <td>807.000000</td>\n",
              "      <td>805.000000</td>\n",
              "      <td>804.000000</td>\n",
              "      <td>802.000000</td>\n",
              "      <td>801.000000</td>\n",
              "      <td>799.000000</td>\n",
              "      <td>798.000000</td>\n",
              "      <td>796.000000</td>\n",
              "      <td>795.000000</td>\n",
              "      <td>793.000000</td>\n",
              "      <td>792.000000</td>\n",
              "      <td>793.000000</td>\n",
              "      <td>822.000000</td>\n",
              "      <td>795.000000</td>\n",
              "      <td>803.000000</td>\n",
              "      <td>772.000000</td>\n",
              "      <td>777.000000</td>\n",
              "      <td>743.000000</td>\n",
              "      <td>744.000000</td>\n",
              "      <td>746.000000</td>\n",
              "      <td>751.000000</td>\n",
              "      <td>758.000000</td>\n",
              "      <td>800.000000</td>\n",
              "      <td>772.000000</td>\n",
              "      <td>779.000000</td>\n",
              "      <td>796.000000</td>\n",
              "    </tr>\n",
              "  </tbody>\n",
              "</table>\n",
              "<p>8 rows × 157 columns</p>\n",
              "</div>"
            ],
            "text/plain": [
              "         LONGITUDE     LATITUDE  ...     NBR_2015     NBR_2016\n",
              "count  1567.000000  1567.000000  ...  1406.000000  1406.000000\n",
              "mean   -117.682655    46.133710  ...   211.457326   218.581792\n",
              "std       9.838144     6.784918  ...   222.518923   230.047472\n",
              "min    -142.669762    34.268036  ...  -163.000000  -192.000000\n",
              "25%    -119.636079    43.785537  ...    31.500000    34.250000\n",
              "50%    -117.555712    44.584781  ...   177.500000   185.000000\n",
              "75%    -114.164883    48.483027  ...   362.000000   377.000000\n",
              "max    -103.420050    64.085681  ...   779.000000   796.000000\n",
              "\n",
              "[8 rows x 157 columns]"
            ]
          },
          "metadata": {
            "tags": []
          },
          "execution_count": 11
        }
      ]
    },
    {
      "cell_type": "code",
      "metadata": {
        "id": "qKM80Ijs0-Wo",
        "colab_type": "code",
        "outputId": "551584bb-70f5-49e3-fa9d-15ed6257400e",
        "colab": {
          "base_uri": "https://localhost:8080/",
          "height": 1000
        }
      },
      "source": [
        "#Retrieving accurate list of columns for use in exploration\n",
        "for col in df.columns: \n",
        "    print(col) "
      ],
      "execution_count": 12,
      "outputs": [
        {
          "output_type": "stream",
          "text": [
            "STATE\n",
            "FIRE\n",
            "PLOT\n",
            "SITE\n",
            "PLOT_LETTER\n",
            "LONGITUDE\n",
            "LATITUDE\n",
            "X_ALBERS\n",
            "Y_ALBERS\n",
            "ELEVATION\n",
            "VERT_PREC\n",
            "HORZ_PREC\n",
            "TRASP\n",
            "SLOPE\n",
            "BURN_YEAR\n",
            "FIELD_DATE\n",
            "UNDER_RICHNESS\n",
            "UNDER_GRN_PERC\n",
            "UNDER_NPV_PERC\n",
            "UNDER_NPV_CHAR_PERC\n",
            "ASH_PERC\n",
            "ROCK_PERC\n",
            "ROCK_CHAR_PERC\n",
            "SOIL_PERC\n",
            "SOIL_CHAR_PERC\n",
            "TALL_SHRUB_PERC\n",
            "CANOPY_AVE\n",
            "FUEL_1HR\n",
            "FUEL_10HR\n",
            "FUEL_100HR\n",
            "FUEL_1000HR\n",
            "LITTER_DEPTH\n",
            "DUFF_DEPTH\n",
            "ABGR_LIVE_BA\n",
            "ABGR_DEAD_BA\n",
            "ABLA_LIVE_BA\n",
            "ABLA_DEAD_BA\n",
            "BEPA_LIVE_BA\n",
            "BEPA_DEAD_BA\n",
            "LAOC_LIVE_BA\n",
            "LAOC_DEAD_BA\n",
            "PICO_LIVE_BA\n",
            "PICO_DEAD_BA\n",
            "PIEN_LIVE_BA\n",
            "PIEN_DEAD_BA\n",
            "PIGL_LIVE_BA\n",
            "PIGL_DEAD_BA\n",
            "PIMA_LIVE_BA\n",
            "PIMA_DEAD_BA\n",
            "PIPO_LIVE_BA\n",
            "PIPO_DEAD_BA\n",
            "POTR_LIVE_BA\n",
            "POTR_DEAD_BA\n",
            "PSME_LIVE_BA\n",
            "PSME_DEAD_BA\n",
            "QUKE_LIVE_BA\n",
            "QUKE_DEAD_BA\n",
            "QULO_LIVE_BA\n",
            "QULO_DEAD_BA\n",
            "THPL_LIVE_BA\n",
            "THPL_DEAD_BA\n",
            "OTHER_LIVE_BA\n",
            "OTHER_DEAD_BA\n",
            "TOTAL_LIVE_BA\n",
            "TOTAL_DEAD_BA\n",
            "ABGR_SEED_LIVE\n",
            "ABGR_SEED_DEAD\n",
            "ABGR_SAP_LIVE\n",
            "ABGR_SAP_DEAD\n",
            "ABLA_SEED_LIVE\n",
            "ABLA_SEED_DEAD\n",
            "ABLA_SAP_LIVE\n",
            "ABLA_SAP_DEAD\n",
            "BEPA_SEED_LIVE\n",
            "BEPA_SEED_DEAD\n",
            "BEPA_SAP_LIVE\n",
            "BEPA_SAP_DEAD\n",
            "LAOC_SEED_LIVE\n",
            "LAOC_SEED_DEAD\n",
            "LAOC_SAP_LIVE\n",
            "LAOC_SAP_DEAD\n",
            "PICO_SEED_LIVE\n",
            "PICO_SEED_DEAD\n",
            "PICO_SAP_LIVE\n",
            "PICO_SAP_DEAD\n",
            "PIEN_SEED_LIVE\n",
            "PIEN_SEED_DEAD\n",
            "PIEN_SAP_LIVE\n",
            "PIEN_SAP_DEAD\n",
            "PIGL_SEED_LIVE\n",
            "PIGL_SEED_DEAD\n",
            "PIGL_SAP_LIVE\n",
            "PIGL_SAP_DEAD\n",
            "PIMA_SEED_LIVE\n",
            "PIMA_SEED_DEAD\n",
            "PIMA_SAP_LIVE\n",
            "PIMA_SAP_DEAD\n",
            "PIPO_SEED_LIVE\n",
            "PIPO_SEED_DEAD\n",
            "PIPO_SAP_LIVE\n",
            "PIPO_SAP_DEAD\n",
            "POTR_SEED_LIVE\n",
            "POTR_SEED_DEAD\n",
            "POTR_SAP_LIVE\n",
            "POTR_SAP_DEAD\n",
            "PSME_SEED_LIVE\n",
            "PSME_SEED_DEAD\n",
            "PSME_SAP_LIVE\n",
            "PSME_SAP_DEAD\n",
            "QUERCUS_SEED_LIVE\n",
            "QUERCUS_SEED_DEAD\n",
            "QUERCUS_SAP_LIVE\n",
            "QUERCUS_SAP_DEAD\n",
            "PICEA_SEED_LIVE\n",
            "PICEA_SEED_DEAD\n",
            "PICEA_SAP_LIVE\n",
            "PICEA_SAP_DEAD\n",
            "SALIX_SEED_LIVE\n",
            "SALIX_SEED_DEAD\n",
            "SALIX_SAP_LIVE\n",
            "SALIX_SAP_DEAD\n",
            "OTHER_SEED_LIVE\n",
            "OTHER_SEED_DEAD\n",
            "OTHER_SAP_LIVE\n",
            "OTHER_SAP_DEAD\n",
            "TOTAL_SEED_LIVE\n",
            "TOTAL_SEED_DEAD\n",
            "TOTAL_SAP_LIVE\n",
            "TOTAL_SAP_DEAD\n",
            "DNBR\n",
            "NBR_1984\n",
            "NBR_1985\n",
            "NBR_1986\n",
            "NBR_1987\n",
            "NBR_1988\n",
            "NBR_1989\n",
            "NBR_1990\n",
            "NBR_1991\n",
            "NBR_1992\n",
            "NBR_1993\n",
            "NBR_1994\n",
            "NBR_1995\n",
            "NBR_1996\n",
            "NBR_1997\n",
            "NBR_1998\n",
            "NBR_1999\n",
            "NBR_2000\n",
            "NBR_2001\n",
            "NBR_2002\n",
            "NBR_2003\n",
            "NBR_2004\n",
            "NBR_2005\n",
            "NBR_2006\n",
            "NBR_2007\n",
            "NBR_2008\n",
            "NBR_2009\n",
            "NBR_2010\n",
            "NBR_2011\n",
            "NBR_2012\n",
            "NBR_2013\n",
            "NBR_2014\n",
            "NBR_2015\n",
            "NBR_2016\n"
          ],
          "name": "stdout"
        }
      ]
    },
    {
      "cell_type": "markdown",
      "metadata": {
        "id": "gsGrqUXZVR2J",
        "colab_type": "text"
      },
      "source": [
        "###Nulls\n",
        "\n",
        "There are a number of nulls in the data set. The can be found in multiple facets & rows of the observations. Further examination will be needed."
      ]
    },
    {
      "cell_type": "code",
      "metadata": {
        "id": "CMPppHmG6RGW",
        "colab_type": "code",
        "outputId": "fbbb153d-5110-4cfa-c7cc-dcc098f92be1",
        "colab": {
          "base_uri": "https://localhost:8080/",
          "height": 221
        }
      },
      "source": [
        "df.isnull().sum()"
      ],
      "execution_count": 13,
      "outputs": [
        {
          "output_type": "execute_result",
          "data": {
            "text/plain": [
              "STATE            0\n",
              "FIRE             0\n",
              "PLOT             0\n",
              "SITE            25\n",
              "PLOT_LETTER      0\n",
              "              ... \n",
              "NBR_2012       161\n",
              "NBR_2013       161\n",
              "NBR_2014       161\n",
              "NBR_2015       161\n",
              "NBR_2016       161\n",
              "Length: 163, dtype: int64"
            ]
          },
          "metadata": {
            "tags": []
          },
          "execution_count": 13
        }
      ]
    },
    {
      "cell_type": "markdown",
      "metadata": {
        "id": "uUMUSXkqTjZp",
        "colab_type": "text"
      },
      "source": [
        "##Cleaning the ancillary data\n"
      ]
    },
    {
      "cell_type": "code",
      "metadata": {
        "id": "SrYf1ffgTxva",
        "colab_type": "code",
        "outputId": "61723040-5872-4921-e528-4eb58361fce4",
        "colab": {
          "base_uri": "https://localhost:8080/",
          "height": 204
        }
      },
      "source": [
        "df2.head()"
      ],
      "execution_count": 14,
      "outputs": [
        {
          "output_type": "execute_result",
          "data": {
            "text/html": [
              "<div>\n",
              "<style scoped>\n",
              "    .dataframe tbody tr th:only-of-type {\n",
              "        vertical-align: middle;\n",
              "    }\n",
              "\n",
              "    .dataframe tbody tr th {\n",
              "        vertical-align: top;\n",
              "    }\n",
              "\n",
              "    .dataframe thead th {\n",
              "        text-align: right;\n",
              "    }\n",
              "</style>\n",
              "<table border=\"1\" class=\"dataframe\">\n",
              "  <thead>\n",
              "    <tr style=\"text-align: right;\">\n",
              "      <th></th>\n",
              "      <th>Year</th>\n",
              "      <th>Fires</th>\n",
              "      <th>Acres</th>\n",
              "    </tr>\n",
              "  </thead>\n",
              "  <tbody>\n",
              "    <tr>\n",
              "      <th>0</th>\n",
              "      <td>1985</td>\n",
              "      <td>82591</td>\n",
              "      <td>2896147</td>\n",
              "    </tr>\n",
              "    <tr>\n",
              "      <th>1</th>\n",
              "      <td>1986</td>\n",
              "      <td>85907</td>\n",
              "      <td>2719162</td>\n",
              "    </tr>\n",
              "    <tr>\n",
              "      <th>2</th>\n",
              "      <td>1987</td>\n",
              "      <td>71300</td>\n",
              "      <td>2447296</td>\n",
              "    </tr>\n",
              "    <tr>\n",
              "      <th>3</th>\n",
              "      <td>1988</td>\n",
              "      <td>72750</td>\n",
              "      <td>5009290</td>\n",
              "    </tr>\n",
              "    <tr>\n",
              "      <th>4</th>\n",
              "      <td>1989</td>\n",
              "      <td>48949</td>\n",
              "      <td>1827310</td>\n",
              "    </tr>\n",
              "  </tbody>\n",
              "</table>\n",
              "</div>"
            ],
            "text/plain": [
              "   Year  Fires    Acres\n",
              "0  1985  82591  2896147\n",
              "1  1986  85907  2719162\n",
              "2  1987  71300  2447296\n",
              "3  1988  72750  5009290\n",
              "4  1989  48949  1827310"
            ]
          },
          "metadata": {
            "tags": []
          },
          "execution_count": 14
        }
      ]
    },
    {
      "cell_type": "code",
      "metadata": {
        "id": "bVYgT25WT1Lu",
        "colab_type": "code",
        "outputId": "1166383c-9935-4f43-df6e-56615338202e",
        "colab": {
          "base_uri": "https://localhost:8080/",
          "height": 204
        }
      },
      "source": [
        "df2.tail()"
      ],
      "execution_count": 15,
      "outputs": [
        {
          "output_type": "execute_result",
          "data": {
            "text/html": [
              "<div>\n",
              "<style scoped>\n",
              "    .dataframe tbody tr th:only-of-type {\n",
              "        vertical-align: middle;\n",
              "    }\n",
              "\n",
              "    .dataframe tbody tr th {\n",
              "        vertical-align: top;\n",
              "    }\n",
              "\n",
              "    .dataframe thead th {\n",
              "        text-align: right;\n",
              "    }\n",
              "</style>\n",
              "<table border=\"1\" class=\"dataframe\">\n",
              "  <thead>\n",
              "    <tr style=\"text-align: right;\">\n",
              "      <th></th>\n",
              "      <th>Year</th>\n",
              "      <th>Fires</th>\n",
              "      <th>Acres</th>\n",
              "    </tr>\n",
              "  </thead>\n",
              "  <tbody>\n",
              "    <tr>\n",
              "      <th>29</th>\n",
              "      <td>2014</td>\n",
              "      <td>63345</td>\n",
              "      <td>3587561</td>\n",
              "    </tr>\n",
              "    <tr>\n",
              "      <th>30</th>\n",
              "      <td>2015</td>\n",
              "      <td>61922</td>\n",
              "      <td>10125149</td>\n",
              "    </tr>\n",
              "    <tr>\n",
              "      <th>31</th>\n",
              "      <td>2016</td>\n",
              "      <td>65575</td>\n",
              "      <td>5446520</td>\n",
              "    </tr>\n",
              "    <tr>\n",
              "      <th>32</th>\n",
              "      <td>2017</td>\n",
              "      <td>66131</td>\n",
              "      <td>9781062</td>\n",
              "    </tr>\n",
              "    <tr>\n",
              "      <th>33</th>\n",
              "      <td>2018</td>\n",
              "      <td>55911</td>\n",
              "      <td>8582609</td>\n",
              "    </tr>\n",
              "  </tbody>\n",
              "</table>\n",
              "</div>"
            ],
            "text/plain": [
              "    Year  Fires     Acres\n",
              "29  2014  63345   3587561\n",
              "30  2015  61922  10125149\n",
              "31  2016  65575   5446520\n",
              "32  2017  66131   9781062\n",
              "33  2018  55911   8582609"
            ]
          },
          "metadata": {
            "tags": []
          },
          "execution_count": 15
        }
      ]
    },
    {
      "cell_type": "code",
      "metadata": {
        "id": "BxmPL5euT4HZ",
        "colab_type": "code",
        "outputId": "cf7b7301-03cc-4176-d43b-17b1cf3f9430",
        "colab": {
          "base_uri": "https://localhost:8080/",
          "height": 34
        }
      },
      "source": [
        "df2.shape"
      ],
      "execution_count": 16,
      "outputs": [
        {
          "output_type": "execute_result",
          "data": {
            "text/plain": [
              "(34, 3)"
            ]
          },
          "metadata": {
            "tags": []
          },
          "execution_count": 16
        }
      ]
    },
    {
      "cell_type": "code",
      "metadata": {
        "id": "ztPMKypdUAb5",
        "colab_type": "code",
        "outputId": "ea924bfc-6618-45e1-f67d-82815d9337f9",
        "colab": {
          "base_uri": "https://localhost:8080/",
          "height": 297
        }
      },
      "source": [
        "df2.describe()"
      ],
      "execution_count": 17,
      "outputs": [
        {
          "output_type": "execute_result",
          "data": {
            "text/html": [
              "<div>\n",
              "<style scoped>\n",
              "    .dataframe tbody tr th:only-of-type {\n",
              "        vertical-align: middle;\n",
              "    }\n",
              "\n",
              "    .dataframe tbody tr th {\n",
              "        vertical-align: top;\n",
              "    }\n",
              "\n",
              "    .dataframe thead th {\n",
              "        text-align: right;\n",
              "    }\n",
              "</style>\n",
              "<table border=\"1\" class=\"dataframe\">\n",
              "  <thead>\n",
              "    <tr style=\"text-align: right;\">\n",
              "      <th></th>\n",
              "      <th>Year</th>\n",
              "      <th>Fires</th>\n",
              "      <th>Acres</th>\n",
              "    </tr>\n",
              "  </thead>\n",
              "  <tbody>\n",
              "    <tr>\n",
              "      <th>count</th>\n",
              "      <td>34.000000</td>\n",
              "      <td>34.000000</td>\n",
              "      <td>3.400000e+01</td>\n",
              "    </tr>\n",
              "    <tr>\n",
              "      <th>mean</th>\n",
              "      <td>2001.500000</td>\n",
              "      <td>73649.411765</td>\n",
              "      <td>5.310393e+06</td>\n",
              "    </tr>\n",
              "    <tr>\n",
              "      <th>std</th>\n",
              "      <td>9.958246</td>\n",
              "      <td>12585.852919</td>\n",
              "      <td>2.782309e+06</td>\n",
              "    </tr>\n",
              "    <tr>\n",
              "      <th>min</th>\n",
              "      <td>1985.000000</td>\n",
              "      <td>46615.000000</td>\n",
              "      <td>1.329704e+06</td>\n",
              "    </tr>\n",
              "    <tr>\n",
              "      <th>25%</th>\n",
              "      <td>1993.250000</td>\n",
              "      <td>65714.000000</td>\n",
              "      <td>2.910505e+06</td>\n",
              "    </tr>\n",
              "    <tr>\n",
              "      <th>50%</th>\n",
              "      <td>2001.500000</td>\n",
              "      <td>73103.500000</td>\n",
              "      <td>4.815456e+06</td>\n",
              "    </tr>\n",
              "    <tr>\n",
              "      <th>75%</th>\n",
              "      <td>2009.750000</td>\n",
              "      <td>82501.750000</td>\n",
              "      <td>7.921783e+06</td>\n",
              "    </tr>\n",
              "    <tr>\n",
              "      <th>max</th>\n",
              "      <td>2018.000000</td>\n",
              "      <td>96385.000000</td>\n",
              "      <td>1.012515e+07</td>\n",
              "    </tr>\n",
              "  </tbody>\n",
              "</table>\n",
              "</div>"
            ],
            "text/plain": [
              "              Year         Fires         Acres\n",
              "count    34.000000     34.000000  3.400000e+01\n",
              "mean   2001.500000  73649.411765  5.310393e+06\n",
              "std       9.958246  12585.852919  2.782309e+06\n",
              "min    1985.000000  46615.000000  1.329704e+06\n",
              "25%    1993.250000  65714.000000  2.910505e+06\n",
              "50%    2001.500000  73103.500000  4.815456e+06\n",
              "75%    2009.750000  82501.750000  7.921783e+06\n",
              "max    2018.000000  96385.000000  1.012515e+07"
            ]
          },
          "metadata": {
            "tags": []
          },
          "execution_count": 17
        }
      ]
    },
    {
      "cell_type": "code",
      "metadata": {
        "id": "ZUUNWONVUD8A",
        "colab_type": "code",
        "outputId": "b3114ea6-e776-41af-f454-1b065d965c75",
        "colab": {
          "base_uri": "https://localhost:8080/",
          "height": 153
        }
      },
      "source": [
        "df2.info()"
      ],
      "execution_count": 18,
      "outputs": [
        {
          "output_type": "stream",
          "text": [
            "<class 'pandas.core.frame.DataFrame'>\n",
            "RangeIndex: 34 entries, 0 to 33\n",
            "Data columns (total 3 columns):\n",
            "Year     34 non-null int64\n",
            "Fires    34 non-null int64\n",
            "Acres    34 non-null int64\n",
            "dtypes: int64(3)\n",
            "memory usage: 944.0 bytes\n"
          ],
          "name": "stdout"
        }
      ]
    },
    {
      "cell_type": "code",
      "metadata": {
        "id": "6x97xmaOUIqT",
        "colab_type": "code",
        "outputId": "4acc29a3-214c-4209-f7c2-12519e79cbf8",
        "colab": {
          "base_uri": "https://localhost:8080/",
          "height": 85
        }
      },
      "source": [
        "df2.dtypes"
      ],
      "execution_count": 19,
      "outputs": [
        {
          "output_type": "execute_result",
          "data": {
            "text/plain": [
              "Year     int64\n",
              "Fires    int64\n",
              "Acres    int64\n",
              "dtype: object"
            ]
          },
          "metadata": {
            "tags": []
          },
          "execution_count": 19
        }
      ]
    },
    {
      "cell_type": "markdown",
      "metadata": {
        "id": "BI7abhrJwSwf",
        "colab_type": "text"
      },
      "source": [
        "#Attaching Timestamp\n",
        "\n",
        "The Pandas Time tools to the 'FIELD_DATE' column before I look for missing data. I expect that the date & time these observations were made will be useful in anazlyzing the data."
      ]
    },
    {
      "cell_type": "code",
      "metadata": {
        "id": "afZfnBlcw4ct",
        "colab_type": "code",
        "colab": {}
      },
      "source": [
        "df['FIELD_DATE'] = pd.to_datetime(df['FIELD_DATE'], infer_datetime_format=True)"
      ],
      "execution_count": 0,
      "outputs": []
    },
    {
      "cell_type": "markdown",
      "metadata": {
        "id": "XIGmv1nk8I6l",
        "colab_type": "text"
      },
      "source": [
        "#Cleaning the Data for Evaluation\n",
        "\n",
        "This data set comes with a number of issues. It contains date/time formats & null cells. More explorations to determine if any data can be dropped may be needed."
      ]
    },
    {
      "cell_type": "markdown",
      "metadata": {
        "id": "Aip7A7m6go_U",
        "colab_type": "text"
      },
      "source": [
        "##Exploring Missing Data\n",
        "\n",
        "First I'm examining the frequency and types of missing data in the set.\n"
      ]
    },
    {
      "cell_type": "markdown",
      "metadata": {
        "id": "4SBJpaBP6ZGY",
        "colab_type": "text"
      },
      "source": [
        "###Null Tally\n"
      ]
    },
    {
      "cell_type": "code",
      "metadata": {
        "id": "uGuATgbR9lBQ",
        "colab_type": "code",
        "outputId": "fe23ebad-0139-4ee8-8f66-d0eabd200069",
        "colab": {
          "base_uri": "https://localhost:8080/",
          "height": 221
        }
      },
      "source": [
        "null_columns=df.columns[df.isnull().any()]\n",
        "df[null_columns].isnull().sum()"
      ],
      "execution_count": 21,
      "outputs": [
        {
          "output_type": "execute_result",
          "data": {
            "text/plain": [
              "SITE               25\n",
              "VERT_PREC         186\n",
              "HORZ_PREC         186\n",
              "FIELD_DATE          5\n",
              "UNDER_RICHNESS     30\n",
              "                 ... \n",
              "NBR_2012          161\n",
              "NBR_2013          161\n",
              "NBR_2014          161\n",
              "NBR_2015          161\n",
              "NBR_2016          161\n",
              "Length: 150, dtype: int64"
            ]
          },
          "metadata": {
            "tags": []
          },
          "execution_count": 21
        }
      ]
    },
    {
      "cell_type": "markdown",
      "metadata": {
        "id": "N7ZBT-vBP7D4",
        "colab_type": "text"
      },
      "source": [
        "###Looking at Vertical & Horizontal Precision in GPS output. \n",
        "\n",
        "It appears that the missing data in these rows is mirrored in each column. This shows me that the data contains ommissions in reporting, not in the data itself. My theory would be that if the data is missing due to some technical issue with the data there would not be a match between horizontal and vertical precision fields. There is a precise match. This means, I think that GPS observations were simply not taken or observations were taken without GPS. Interesting question here: Does the data give me a way to show whether these were GPS observations taken without Vertical & Horizontal Precision data or were these observations made without GPS? I don't know if GPS allows measurements without these facets. I suspect not. I suspect this data is simply missing.\n",
        "\n",
        "But I'm going to remove these columns as I don't think the accuracy of these GPS measurements is relevant for my purposes.\n",
        "\n",
        "ON a future iteration I'm going to do a walkabout in the null space of the entire data set and make a correlation matrix of the nulls."
      ]
    },
    {
      "cell_type": "code",
      "metadata": {
        "id": "TlLPUghgccAo",
        "colab_type": "code",
        "colab": {}
      },
      "source": [
        "df_nullset_vert_prec = df[df[\"VERT_PREC\"].isnull()][null_columns]\n",
        "vert_prec_list = np.array(df_nullset_vert_prec.index.values)\n",
        "\n",
        "df_nullset_horz_prec = df[df[\"HORZ_PREC\"].isnull()][null_columns]\n",
        "horz_prec_list = np.array(df_nullset_horz_prec.index.values)"
      ],
      "execution_count": 0,
      "outputs": []
    },
    {
      "cell_type": "code",
      "metadata": {
        "id": "3uqKILeL2SDc",
        "colab_type": "code",
        "outputId": "49e6d81d-162e-4be0-fbaa-8bc7996555c1",
        "colab": {
          "base_uri": "https://localhost:8080/",
          "height": 34
        }
      },
      "source": [
        "np.array_equal([vert_prec_list], [horz_prec_list])"
      ],
      "execution_count": 23,
      "outputs": [
        {
          "output_type": "execute_result",
          "data": {
            "text/plain": [
              "True"
            ]
          },
          "metadata": {
            "tags": []
          },
          "execution_count": 23
        }
      ]
    },
    {
      "cell_type": "markdown",
      "metadata": {
        "id": "1WoSzwxYZcM8",
        "colab_type": "text"
      },
      "source": [
        "##SITE Column Resolve\n",
        "\n",
        "It seems incongruous that this data set is missing 25 'SITE' cells as the entire data set revolves around where these measurements have been taken. Further exploration of these missing 'SITE' cells is warranted."
      ]
    },
    {
      "cell_type": "code",
      "metadata": {
        "id": "Yro542su3gnB",
        "colab_type": "code",
        "outputId": "d1ca9c4f-ca59-4368-c370-5c5fcd0507da",
        "colab": {
          "base_uri": "https://localhost:8080/",
          "height": 119
        }
      },
      "source": [
        "df_nullset_site = df[df['SITE'].isnull()][null_columns]\n",
        "print(df_nullset_site['SITE'].head())"
      ],
      "execution_count": 24,
      "outputs": [
        {
          "output_type": "stream",
          "text": [
            "1247    NaN\n",
            "1248    NaN\n",
            "1249    NaN\n",
            "1250    NaN\n",
            "1251    NaN\n",
            "Name: SITE, dtype: object\n"
          ],
          "name": "stdout"
        }
      ]
    },
    {
      "cell_type": "code",
      "metadata": {
        "id": "8dLLwNVTNcAu",
        "colab_type": "code",
        "colab": {}
      },
      "source": [
        "null_set_list = np.array(df_nullset_site.index.values)"
      ],
      "execution_count": 0,
      "outputs": []
    },
    {
      "cell_type": "code",
      "metadata": {
        "id": "hu0I4dTKOCKo",
        "colab_type": "code",
        "outputId": "4c1afec6-564e-4f6e-d0db-3d91395e0407",
        "colab": {
          "base_uri": "https://localhost:8080/",
          "height": 51
        }
      },
      "source": [
        "print(null_set_list)"
      ],
      "execution_count": 26,
      "outputs": [
        {
          "output_type": "stream",
          "text": [
            "[1247 1248 1249 1250 1251 1272 1273 1274 1275 1276 1307 1308 1309 1310\n",
            " 1311 1327 1328 1329 1330 1331 1332 1333 1334 1335 1336]\n"
          ],
          "name": "stdout"
        }
      ]
    },
    {
      "cell_type": "markdown",
      "metadata": {
        "id": "oEegDIKjLoNB",
        "colab_type": "text"
      },
      "source": [
        "###SITE versus PLOT\n",
        "\n",
        "SITE seems to be a location where observations were taken in which multiple plots are measured for their NBR.\n",
        "\n",
        "I take a snapshot here of the SITE nullset to ensure there is enough information to successfully maintain context for the data. It is clear the nulls for SITE can be removed without an issue."
      ]
    },
    {
      "cell_type": "code",
      "metadata": {
        "id": "eASpHBP2F3C8",
        "colab_type": "code",
        "outputId": "2df7d7ef-0f6e-43de-ff98-f806364d6d60",
        "colab": {
          "base_uri": "https://localhost:8080/",
          "height": 442
        }
      },
      "source": [
        "for each in (null_set_list):\n",
        "  print(df.at[each, 'LATITUDE'],df.at[each, 'LONGITUDE'],df.at[each,'BURN_YEAR'], df.at[each,'FIRE'], df.at[each,'PLOT'])"
      ],
      "execution_count": 27,
      "outputs": [
        {
          "output_type": "stream",
          "text": [
            "46.23850024 -117.6404189 2005 SCHOOL SCHOOL_CONTROL_1_A\n",
            "46.23845137 -117.64004560000001 2005 SCHOOL SCHOOL_CONTROL_1_B\n",
            "46.23822581 -117.6405225 2005 SCHOOL SCHOOL_CONTROL_1_D\n",
            "46.23855725 -117.64081359999999 2005 SCHOOL SCHOOL_CONTROL_1_F\n",
            "46.23875679 -117.64033130000001 2005 SCHOOL SCHOOL_CONTROL_1_H\n",
            "46.22187925 -117.6762726 2005 SCHOOL SCHOOL_HYDROMULCH_1_A\n",
            "46.22182784 -117.6766672 2005 SCHOOL SCHOOL_HYDROMULCH_1_B\n",
            "46.22213718 -117.6763781 2005 SCHOOL SCHOOL_HYDROMULCH_1_D\n",
            "46.22194059 -117.6759121 2005 SCHOOL SCHOOL_HYDROMULCH_1_F\n",
            "46.22163877 -117.67611670000001 2005 SCHOOL SCHOOL_HYDROMULCH_1_H\n",
            "46.22028413 -117.65598179999999 2005 SCHOOL SCHOOL_SEEDED_1_A\n",
            "46.22003724 -117.6558466 2005 SCHOOL SCHOOL_SEEDED_1_B\n",
            "46.22014674 -117.6563362 2005 SCHOOL SCHOOL_SEEDED_1_D\n",
            "46.22052825 -117.65613 2005 SCHOOL SCHOOL_SEEDED_1_F\n",
            "46.22046529 -117.65563629999998 2005 SCHOOL SCHOOL_SEEDED_1_H\n",
            "46.22239505 -117.66523529999999 2005 SCHOOL SCHOOL_WHEAT_STRAW_1_A\n",
            "46.22214437 -117.66508400000001 2005 SCHOOL SCHOOL_WHEAT_STRAW_1_B\n",
            "46.22230741 -117.6655902 2005 SCHOOL SCHOOL_WHEAT_STRAW_1_D\n",
            "46.22265737 -117.66538529999998 2005 SCHOOL SCHOOL_WHEAT_STRAW_1_F\n",
            "46.2224981 -117.6648594 2005 SCHOOL SCHOOL_WHEAT_STRAW_1_H\n",
            "46.22168238 -117.66811750000001 2005 SCHOOL SCHOOL_WOOD_STRAW_1_A\n",
            "46.22144945 -117.6679165 2005 SCHOOL SCHOOL_WOOD_STRAW_1_B\n",
            "46.22156103 -117.6684773 2005 SCHOOL SCHOOL_WOOD_STRAW_1_D\n",
            "46.22190057 -117.6683476 2005 SCHOOL SCHOOL_WOOD_STRAW_1_F\n",
            "46.22183503 -117.66782450000001 2005 SCHOOL SCHOOL_WOOD_STRAW_1_H\n"
          ],
          "name": "stdout"
        }
      ]
    },
    {
      "cell_type": "markdown",
      "metadata": {
        "id": "6IDZbtsXbpXQ",
        "colab_type": "text"
      },
      "source": [
        "##Interpolation\n",
        "\n",
        "I have compiled a list of columns which contain floating point or integers which can be used to derive the missing values from cells. Given a dataframe shape of [1567 rows x 163 columns] I determined that I would not interpolate any missing cell where less than 1/3 of the total column is missing.\n",
        "\n",
        "Interpolation here is done across all of the data. In order to conserve time I have chosen to handle this interpolation across all of the data. If I have time I will come back and interpolate these columns by 'FIRE' as that should give a more accurate output in the finished graphs.\n"
      ]
    },
    {
      "cell_type": "code",
      "metadata": {
        "id": "EjmrZfYaIyCq",
        "colab_type": "code",
        "colab": {}
      },
      "source": [
        "interpol_list = ['NBR_1984','NBR_1985','NBR_1986','NBR_1987','NBR_1988','NBR_1989',\n",
        "            'NBR_1990','NBR_1991','NBR_1992','NBR_1993','NBR_1994','NBR_1995',\n",
        "            'NBR_1996','NBR_1997','NBR_1998','NBR_1999','NBR_2000','NBR_2001',\n",
        "            'NBR_2002','NBR_2003','NBR_2004','NBR_2005','NBR_2006','NBR_2007',\n",
        "            'NBR_2008','NBR_2009','NBR_2010','NBR_2011','NBR_2012','NBR_2013',\n",
        "            'NBR_2014','NBR_2015','NBR_2016','UNDER_RICHNESS','UNDER_GRN_PERC',\n",
        "            'OTHER_SAP_DEAD','TOTAL_SEED_LIVE','TOTAL_SEED_DEAD','HORZ_PREC',\n",
        "            'VERT_PREC','TOTAL_SAP_LIVE','TOTAL_SAP_DEAD','SALIX_SAP_LIVE',\n",
        "            'SALIX_SAP_DEAD','OTHER_SEED_LIVE','OTHER_SEED_DEAD','OTHER_SAP_LIVE',\n",
        "            'PICEA_SEED_DEAD','PICEA_SAP_LIVE','PICEA_SAP_DEAD','SALIX_SEED_LIVE',\n",
        "            'SALIX_SEED_DEAD','UNDER_NPV_PERC','UNDER_NPV_CHAR_PERC','ASH_PERC',\n",
        "            'ROCK_PERC','QUERCUS_SEED_LIVE','QUERCUS_SEED_DEAD','QUERCUS_SAP_LIVE',\n",
        "            'QUERCUS_SAP_DEAD','PICEA_SEED_LIVE','POTR_SAP_DEAD','PSME_SEED_LIVE',\n",
        "            'PSME_SEED_DEAD','PSME_SAP_LIVE','PSME_SAP_DEAD','ROCK_CHAR_PERC',\n",
        "            'SOIL_PERC','PIPO_SAP_LIVE','PIPO_SAP_DEAD','POTR_SEED_LIVE',\n",
        "            'POTR_SEED_DEAD','POTR_SAP_LIVE','SOIL_CHAR_PERC','PIMA_SEED_DEAD',\n",
        "            'PIMA_SAP_LIVE','PIMA_SAP_DEAD','PIPO_SEED_LIVE','PIPO_SEED_DEAD',\n",
        "            'PIGL_SEED_LIVE','PIGL_SEED_DEAD','PIGL_SAP_LIVE','PIGL_SAP_DEAD',\n",
        "            'PIMA_SEED_LIVE','PICO_SAP_DEAD','PIEN_SEED_LIVE','PIEN_SEED_DEAD',\n",
        "            'PIEN_SAP_LIVE','PIEN_SAP_DEAD','LAOC_SAP_LIVE','LAOC_SAP_DEAD',\n",
        "            'PICO_SEED_LIVE','PICO_SEED_DEAD','PICO_SAP_LIVE','BEPA_SEED_DEAD',\n",
        "            'BEPA_SAP_LIVE','BEPA_SAP_DEAD','LAOC_SEED_LIVE','LAOC_SEED_DEAD',\n",
        "            'ABLA_SEED_LIVE','ABLA_SEED_DEAD','ABLA_SAP_LIVE','ABLA_SAP_DEAD',\n",
        "            'BEPA_SEED_LIVE','TOTAL_DEAD_BA','ABGR_SEED_LIVE','ABGR_SEED_DEAD',\n",
        "            'ABGR_SAP_LIVE','ABGR_SAP_DEAD','THPL_LIVE_BA','THPL_DEAD_BA',\n",
        "            'OTHER_LIVE_BA','OTHER_DEAD_BA','TOTAL_LIVE_BA','PSME_DEAD_BA',\n",
        "            'QUKE_LIVE_BA','QUKE_DEAD_BA','QULO_LIVE_BA','QULO_DEAD_BA',\n",
        "            'PIPO_LIVE_BA','PIPO_DEAD_BA','POTR_LIVE_BA','POTR_DEAD_BA',\n",
        "            'PSME_LIVE_BA','PIEN_DEAD_BA','PIGL_LIVE_BA','PIGL_DEAD_BA',\n",
        "            'PIMA_LIVE_BA','PIMA_DEAD_BA','LAOC_LIVE_BA','LAOC_DEAD_BA',\n",
        "            'PICO_LIVE_BA','PICO_DEAD_BA','PIEN_LIVE_BA','ABGR_DEAD_BA',\n",
        "            'ABLA_LIVE_BA','ABLA_DEAD_BA','BEPA_LIVE_BA','BEPA_DEAD_BA',\n",
        "            'FUEL_100HR','LITTER_DEPTH','DUFF_DEPTH','ABGR_LIVE_BA',\n",
        "            'CANOPY_AVE','FUEL_1HR','FUEL_10HR']\n",
        "\n",
        "for each in (interpol_list):\n",
        "    df[each] = df[each].interpolate()"
      ],
      "execution_count": 0,
      "outputs": []
    },
    {
      "cell_type": "markdown",
      "metadata": {
        "id": "YYV4eubWgEWs",
        "colab_type": "text"
      },
      "source": [
        "Note that with the new interpolations done the list of nulls has changed substantially. Clearly the NBR numbers constituted the vast majority of the missing data."
      ]
    },
    {
      "cell_type": "code",
      "metadata": {
        "id": "HrjV0d0sV2N9",
        "colab_type": "code",
        "outputId": "a5e1d9a4-615f-4aa1-dc42-02d3eecda399",
        "colab": {
          "base_uri": "https://localhost:8080/",
          "height": 136
        }
      },
      "source": [
        "null_columns=df.columns[df.isnull().any()]\n",
        "df[null_columns].isnull().sum()"
      ],
      "execution_count": 29,
      "outputs": [
        {
          "output_type": "execute_result",
          "data": {
            "text/plain": [
              "SITE                 25\n",
              "VERT_PREC            30\n",
              "HORZ_PREC            30\n",
              "FIELD_DATE            5\n",
              "TALL_SHRUB_PERC    1327\n",
              "FUEL_1000HR        1325\n",
              "dtype: int64"
            ]
          },
          "metadata": {
            "tags": []
          },
          "execution_count": 29
        }
      ]
    },
    {
      "cell_type": "markdown",
      "metadata": {
        "id": "lptNszT5TjKK",
        "colab_type": "text"
      },
      "source": [
        "##Field Date Exploration\n",
        "\n",
        "In exploring the data around the missing 5 FIELD_DATE data cells I learned that the rows around these cells came in batches of 10 rows of observations. The rows with a FIELD_DATE of 2015-07-16 numbered 5 so in order to maintian consistancy I'm changing the missing NaT values for index 1522-1526 to be the date of 2015-07-16."
      ]
    },
    {
      "cell_type": "code",
      "metadata": {
        "id": "F0hwTh1teuMb",
        "colab_type": "code",
        "outputId": "1e375c2b-1cea-459f-f490-d2d9f0baf1c1",
        "colab": {
          "base_uri": "https://localhost:8080/",
          "height": 119
        }
      },
      "source": [
        "df_nullset_field_date = df[df[\"FIELD_DATE\"].isnull()][null_columns]\n",
        "field_date_list = np.array(df_nullset_field_date.index.values)\n",
        "print(df_nullset_field_date)"
      ],
      "execution_count": 30,
      "outputs": [
        {
          "output_type": "stream",
          "text": [
            "     SITE  VERT_PREC  HORZ_PREC FIELD_DATE  TALL_SHRUB_PERC  FUEL_1000HR\n",
            "1522    1        1.6   1.004878        NaT              NaN          NaN\n",
            "1523    1        1.6   1.009756        NaT              NaN          NaN\n",
            "1524    1        1.6   1.014634        NaT              NaN          NaN\n",
            "1525    1        1.6   1.019512        NaT              NaN          NaN\n",
            "1526    1        1.6   1.024390        NaT              NaN          NaN\n"
          ],
          "name": "stdout"
        }
      ]
    },
    {
      "cell_type": "markdown",
      "metadata": {
        "id": "e8PMKzPBaiyN",
        "colab_type": "text"
      },
      "source": [
        "###Previous dates"
      ]
    },
    {
      "cell_type": "code",
      "metadata": {
        "id": "2OPLEW_WZZ0G",
        "colab_type": "code",
        "outputId": "3043301b-4ab6-4090-c57c-903895a4041c",
        "colab": {
          "base_uri": "https://localhost:8080/",
          "height": 102
        }
      },
      "source": [
        "field_search_list = [1517,1518,1519,1520,1521]\n",
        "for each in (field_search_list):\n",
        "  print(df.at[each, 'FIELD_DATE'])"
      ],
      "execution_count": 31,
      "outputs": [
        {
          "output_type": "stream",
          "text": [
            "2015-07-16 00:00:00\n",
            "2015-07-16 00:00:00\n",
            "2015-07-16 00:00:00\n",
            "2015-07-16 00:00:00\n",
            "2015-07-16 00:00:00\n"
          ],
          "name": "stdout"
        }
      ]
    },
    {
      "cell_type": "markdown",
      "metadata": {
        "id": "t33bNNxHaoHi",
        "colab_type": "text"
      },
      "source": [
        "###Change the missing NaT to those dates."
      ]
    },
    {
      "cell_type": "code",
      "metadata": {
        "id": "9vbJiLwUR5lK",
        "colab_type": "code",
        "outputId": "fb1675c9-a064-475f-c8bc-04890a18f157",
        "colab": {
          "base_uri": "https://localhost:8080/",
          "height": 102
        }
      },
      "source": [
        "field_search_list = [1522,1523,1524,1525,1526]\n",
        "for each in (field_search_list):\n",
        "  df.at[each, 'FIELD_DATE'] = '2015-07-16'\n",
        "  print(df.at[each, 'FIELD_DATE'])"
      ],
      "execution_count": 32,
      "outputs": [
        {
          "output_type": "stream",
          "text": [
            "2015-07-16 00:00:00\n",
            "2015-07-16 00:00:00\n",
            "2015-07-16 00:00:00\n",
            "2015-07-16 00:00:00\n",
            "2015-07-16 00:00:00\n"
          ],
          "name": "stdout"
        }
      ]
    },
    {
      "cell_type": "markdown",
      "metadata": {
        "id": "ZocFVHo2e4JN",
        "colab_type": "text"
      },
      "source": [
        "##Final Drop of Missing Data from Set\n",
        "\n",
        "Criteria for dropping data is either that the missing values constitute more than 2/3 of the possible values, I've determined I can't interpolate the missing values, or that the column is not part of what I will analyze in the data set."
      ]
    },
    {
      "cell_type": "code",
      "metadata": {
        "id": "p1yMBobfPIVn",
        "colab_type": "code",
        "colab": {}
      },
      "source": [
        "df.drop(['SITE','TALL_SHRUB_PERC','FUEL_1000HR','VERT_PREC','HORZ_PREC'],axis=1,inplace=True)"
      ],
      "execution_count": 0,
      "outputs": []
    },
    {
      "cell_type": "code",
      "metadata": {
        "id": "Bxhs9t-IkQWJ",
        "colab_type": "code",
        "outputId": "f5cb721f-0e3b-4c14-b309-1ae320fc9bea",
        "colab": {
          "base_uri": "https://localhost:8080/",
          "height": 34
        }
      },
      "source": [
        "null_columns=df.columns[df.isnull().any()]\n",
        "df[null_columns].isnull().sum()"
      ],
      "execution_count": 34,
      "outputs": [
        {
          "output_type": "execute_result",
          "data": {
            "text/plain": [
              "Series([], dtype: float64)"
            ]
          },
          "metadata": {
            "tags": []
          },
          "execution_count": 34
        }
      ]
    },
    {
      "cell_type": "markdown",
      "metadata": {
        "id": "AP7DkmloPwV-",
        "colab_type": "text"
      },
      "source": [
        "#Analyze Cleaned Data"
      ]
    },
    {
      "cell_type": "markdown",
      "metadata": {
        "id": "7cbSF3gP3s3q",
        "colab_type": "text"
      },
      "source": [
        "##Fires & Fire Complexes\n",
        "\n",
        "Previously burned areas included the extents of the 2000 Jasper wildfire in western South Dakota; 2002 Hayman wildfire in central Colorado; 2003 Black Mountain, Cooney Ridge, Robert, and Wedge Canyon wildfires in western Montana; 2003 Old and Simi wildfires in southern California; 2003 Myrtle Creek wildfire in northern Idaho; 2004 Porcupine, Chicken, and Wall Street wildfires in interior Alaska; 2005 School wildfire in eastern Washington; 2005 Ricco wildfire in South Dakota; 2006 Shake Table or Thorn Creek wildfire in central Oregon; 2006 Tripod wildfire complex in north-central Washington; 2007 Egley wildfire in central Oregon; and the 2007 East Zone/Cascade wildfire complex in central Idaho."
      ]
    },
    {
      "cell_type": "markdown",
      "metadata": {
        "id": "if198bJTKyJf",
        "colab_type": "text"
      },
      "source": [
        "###Setting Dictionaries"
      ]
    },
    {
      "cell_type": "code",
      "metadata": {
        "id": "qrqg_9uhhPg6",
        "colab_type": "code",
        "outputId": "196cbe45-8e0b-47e3-fd46-7305effe5d17",
        "colab": {
          "base_uri": "https://localhost:8080/",
          "height": 357
        }
      },
      "source": [
        "#Getting an accurate list of the fires in the data set.\n",
        "df_fire_list = df[\"FIRE\"].value_counts()\n",
        "print(df_fire_list)"
      ],
      "execution_count": 35,
      "outputs": [
        {
          "output_type": "stream",
          "text": [
            "EGLEY       380\n",
            "HAYMAN      175\n",
            "CASCADE     125\n",
            "PORC        121\n",
            "SCHOOL      105\n",
            "JASPER       80\n",
            "TRIPOD       80\n",
            "EASTZONE     75\n",
            "COONEY       71\n",
            "WEDGE        60\n",
            "ROBERT       55\n",
            "MYRTLE       40\n",
            "SIMI         40\n",
            "RICCO        30\n",
            "BLACK        30\n",
            "OLD          30\n",
            "SHAKE        30\n",
            "WALL         20\n",
            "CHIC         20\n",
            "Name: FIRE, dtype: int64\n"
          ],
          "name": "stdout"
        }
      ]
    },
    {
      "cell_type": "code",
      "metadata": {
        "id": "KSNmc9WtxPWb",
        "colab_type": "code",
        "outputId": "01311756-3093-4a50-eb21-e6db51403dc2",
        "colab": {
          "base_uri": "https://localhost:8080/",
          "height": 170
        }
      },
      "source": [
        "#Getting an accurate list of the states in the data set.\n",
        "df_state_list = df[\"STATE\"].value_counts()\n",
        "print(df_state_list)"
      ],
      "execution_count": 36,
      "outputs": [
        {
          "output_type": "stream",
          "text": [
            "OR    410\n",
            "ID    240\n",
            "MT    216\n",
            "WA    185\n",
            "CO    175\n",
            "AK    161\n",
            "SD    110\n",
            "CA     70\n",
            "Name: STATE, dtype: int64\n"
          ],
          "name": "stdout"
        }
      ]
    },
    {
      "cell_type": "code",
      "metadata": {
        "id": "R6dCyM2go5Lo",
        "colab_type": "code",
        "colab": {}
      },
      "source": [
        "#Creating a proper list of fires to use when slicing the original data frame.\n",
        "fires = ['EGLEY', 'HAYMAN', 'CASCADE', 'PORC', 'JASPER', 'TRIPOD', 'EASTZONE',\n",
        "         'COONEY', 'WEDGE', 'ROBERT', 'SIMI', 'MYRTLE', 'SHAKE', 'OLD', 'RICCO',\n",
        "         'BLACK', 'CHIC', 'WALL']\n",
        "\n",
        "#Creating a list of NBR fields for DRYing my code.        \n",
        "burn_ratios = ['NBR_1984', 'NBR_1985', 'NBR_1986', 'NBR_1987', 'NBR_1988', \n",
        "               'NBR_1989', 'NBR_1990', 'NBR_1991', 'NBR_1992', 'NBR_1993', \n",
        "               'NBR_1994', 'NBR_1995', 'NBR_1996', 'NBR_1997', 'NBR_1998', \n",
        "               'NBR_1999', 'NBR_2000', 'NBR_2001', 'NBR_2002', 'NBR_2003', \n",
        "               'NBR_2004', 'NBR_2005', 'NBR_2006', 'NBR_2007', 'NBR_2008', \n",
        "               'NBR_2009', 'NBR_2010', 'NBR_2011', 'NBR_2012', 'NBR_2013',\n",
        "               'NBR_2014', 'NBR_2015', 'NBR_2016']\n",
        "\n",
        "#State dictionary creates nice versions of states rather than abbreviations\n",
        "state_dict = {'ID':'Idaho', 'CO':'Colorado', 'OR':'Oregon', 'MT':'Montana',\n",
        "              'WA':'Washington', 'AK':'Alaska', 'SD':'South Dakota', \n",
        "              'CA':'California'}\n",
        "\n",
        "#Fire dictionary used for proper names of fires. Data set comes with shortened\n",
        "#and abbreviated versions of names              \n",
        "fire_dict = {'EGLEY':'Egley Complex Fire','HAYMAN':'Hayman Fire','CASCADE':\n",
        "             'Cascade Complex Fire','PORC':'Porcupine Fire','JASPER':'Jasper Fire',\n",
        "             'TRIPOD':'Tripod Complex Fire','EASTZONE':'Idaho East Zone Fire Complex',\n",
        "             'COONEY':'Cooney Ridge Fire','WEDGE':'Wedge Canyon Fire',\n",
        "             'ROBERT':'Robert Fire','SIMI':'Simi Fire','MYRTLE':'Myrtle Fire',\n",
        "             'SHAKE':'Shake Table Fire','OLD':'Old Complex Fire',\n",
        "             'RICCO':'Ricco Fire','BLACK':'Black Mountain Fire',\n",
        "             'CHIC':'Chicken Fire','WALL':'Wall Street Fire'}\n",
        "\n",
        "#Year dictionary used for title in graph             \n",
        "year_dict = {'EGLEY':'2007','HAYMAN':'2002','CASCADE':'2007','PORC':'2004',\n",
        "             'JASPER':'2000','TRIPOD':'2006','EASTZONE':'2007',\n",
        "             'COONEY':'2003','WEDGE':'2003','ROBERT':'2003','SIMI':'2003',\n",
        "             'MYRTLE':'2003','SHAKE':'2006','OLD':'2003','RICCO':'2005',\n",
        "             'BLACK':'2003','CHIC':'2004','WALL':'2004'}\n",
        "             \n",
        "#Empty dictionaries to be used in next phase of evaluation\n",
        "sub_fires = {}\n",
        "sub_plot = {}\n",
        "sub_nbr_mean = {}\n",
        "fires_df = []\n"
      ],
      "execution_count": 0,
      "outputs": []
    },
    {
      "cell_type": "markdown",
      "metadata": {
        "id": "RlktuuuBaLs5",
        "colab_type": "text"
      },
      "source": [
        "###Finding size of study in square meters\n",
        "LANDSAT output in this time period uses a 30 square meter pixel."
      ]
    },
    {
      "cell_type": "code",
      "metadata": {
        "id": "gtKY86Q_YsUC",
        "colab_type": "code",
        "outputId": "ae7095c6-2df7-484e-c666-1b5a6252565c",
        "colab": {
          "base_uri": "https://localhost:8080/",
          "height": 34
        }
      },
      "source": [
        "x = range(19)\n",
        "sq_meters = 0\n",
        "for n in x: \n",
        "  sq_meters = sq_meters + df_fire_list[n]*30\n",
        "print(sq_meters)"
      ],
      "execution_count": 38,
      "outputs": [
        {
          "output_type": "stream",
          "text": [
            "47010\n"
          ],
          "name": "stdout"
        }
      ]
    },
    {
      "cell_type": "markdown",
      "metadata": {
        "id": "IFzsSuaBK8oO",
        "colab_type": "text"
      },
      "source": [
        "###Creating Sub DataFrames Per Fire"
      ]
    },
    {
      "cell_type": "code",
      "metadata": {
        "id": "1iOxX_NrUm69",
        "colab_type": "code",
        "colab": {}
      },
      "source": [
        "#Refactor work goes here.\n",
        "#for value in fires:\n",
        "#  for ratio in burn_ratios:\n",
        "#    sub_fires[value] = df[df['FIRE'] == value]\n",
        "#    sub_plot[value] = sub_plot[value].update([sub_fires[value][ratio]])"
      ],
      "execution_count": 0,
      "outputs": []
    },
    {
      "cell_type": "code",
      "metadata": {
        "id": "0qznvL9ULBo_",
        "colab_type": "code",
        "colab": {}
      },
      "source": [
        "#I do not currently have time to refactor this code. Will do asap.\n",
        "for value in fires:\n",
        "  sub_fires[value] = df[df['FIRE'] == value]\n",
        "  sub_plot[value] = [sub_fires[value]['NBR_1984'],sub_fires[value]['NBR_1985'],\n",
        "                     sub_fires[value]['NBR_1986'],sub_fires[value]['NBR_1987'],\n",
        "                     sub_fires[value]['NBR_1988'],sub_fires[value]['NBR_1989'],\n",
        "                     sub_fires[value]['NBR_1990'],sub_fires[value]['NBR_1991'],\n",
        "                     sub_fires[value]['NBR_1992'],sub_fires[value]['NBR_1993'],\n",
        "                     sub_fires[value]['NBR_1994'],sub_fires[value]['NBR_1995'],\n",
        "                     sub_fires[value]['NBR_1996'],sub_fires[value]['NBR_1997'],\n",
        "                     sub_fires[value]['NBR_1998'],sub_fires[value]['NBR_1999'],\n",
        "                     sub_fires[value]['NBR_2000'],sub_fires[value]['NBR_2001'],\n",
        "                     sub_fires[value]['NBR_2002'],sub_fires[value]['NBR_2003'],\n",
        "                     sub_fires[value]['NBR_2004'],sub_fires[value]['NBR_2005'],\n",
        "                     sub_fires[value]['NBR_2006'],sub_fires[value]['NBR_2006'],\n",
        "                     sub_fires[value]['NBR_2007'],sub_fires[value]['NBR_2008'],\n",
        "                     sub_fires[value]['NBR_2009'],sub_fires[value]['NBR_2010'],\n",
        "                     sub_fires[value]['NBR_2011'],sub_fires[value]['NBR_2012'],\n",
        "                     sub_fires[value]['NBR_2013'],sub_fires[value]['NBR_2014'],\n",
        "                     sub_fires[value]['NBR_2015'],sub_fires[value]['NBR_2016']] \n",
        "\n",
        "  sub_nbr_mean[value] = [np.mean(np.array(sub_plot[value][0])),\n",
        "                         np.mean(np.array(sub_plot[value][1])),\n",
        "                         np.mean(np.array(sub_plot[value][2])),\n",
        "                         np.mean(np.array(sub_plot[value][3])),\n",
        "                         np.mean(np.array(sub_plot[value][4])),\n",
        "                         np.mean(np.array(sub_plot[value][5])),\n",
        "                         np.mean(np.array(sub_plot[value][6])),\n",
        "                         np.mean(np.array(sub_plot[value][7])),\n",
        "                         np.mean(np.array(sub_plot[value][8])),\n",
        "                         np.mean(np.array(sub_plot[value][9])),\n",
        "                         np.mean(np.array(sub_plot[value][10])),\n",
        "                         np.mean(np.array(sub_plot[value][11])),\n",
        "                         np.mean(np.array(sub_plot[value][12])),\n",
        "                         np.mean(np.array(sub_plot[value][13])),\n",
        "                         np.mean(np.array(sub_plot[value][14])),\n",
        "                         np.mean(np.array(sub_plot[value][15])),\n",
        "                         np.mean(np.array(sub_plot[value][16])),\n",
        "                         np.mean(np.array(sub_plot[value][17])),\n",
        "                         np.mean(np.array(sub_plot[value][18])),\n",
        "                         np.mean(np.array(sub_plot[value][19])),\n",
        "                         np.mean(np.array(sub_plot[value][20])),\n",
        "                         np.mean(np.array(sub_plot[value][21])),\n",
        "                         np.mean(np.array(sub_plot[value][22])),\n",
        "                         np.mean(np.array(sub_plot[value][23])),\n",
        "                         np.mean(np.array(sub_plot[value][24])),\n",
        "                         np.mean(np.array(sub_plot[value][25])),\n",
        "                         np.mean(np.array(sub_plot[value][26])),\n",
        "                         np.mean(np.array(sub_plot[value][27])),\n",
        "                         np.mean(np.array(sub_plot[value][28])),\n",
        "                         np.mean(np.array(sub_plot[value][29])),\n",
        "                         np.mean(np.array(sub_plot[value][30])),\n",
        "                         np.mean(np.array(sub_plot[value][31])),\n",
        "                         np.mean(np.array(sub_plot[value][32])),\n",
        "                         np.mean(np.array(sub_plot[value][33]))\n",
        "                         ]\n",
        "\n",
        "#Little organizing for ancillary data\n",
        "us_fires = np.array(df2['Fires'])\n",
        "us_fires_acres = np.array(df2['Acres'])\n",
        "                   "
      ],
      "execution_count": 0,
      "outputs": []
    },
    {
      "cell_type": "markdown",
      "metadata": {
        "id": "-JNEYz5Z9pZS",
        "colab_type": "text"
      },
      "source": [
        "###Define Graphing Functions"
      ]
    },
    {
      "cell_type": "code",
      "metadata": {
        "id": "1jz99_iTWiXK",
        "colab_type": "code",
        "colab": {}
      },
      "source": [
        "#Returns graph for NBR data based on individual fires\n",
        "def graph_fire(FIRE):\n",
        "    fig = plt.figure(figsize=(9, 9))\n",
        "    ax = fig.add_subplot()\n",
        "    axes = fig.add_axes()\n",
        "    plt.plot(sub_nbr_mean[FIRE])\n",
        "\n",
        "    title = fire_dict.get(FIRE) + \" \" + year_dict.get(FIRE)\n",
        "    plt.title(title,fontsize=20)\n",
        "    plt.xlabel('Year',fontsize=16)\n",
        "    ax.set_xticklabels(['1984','','1988','','1992','','1996','','2000','',\n",
        "                        '2004','','2008','','2012','','2016'], fontsize=10,ha='center')    \n",
        "    ax.set_xticks(range(0,35,2))\n",
        "    ax.set_yticks(range(-500,800,100))\n",
        "    plt.ylabel('Normalized Burn Ratio',fontsize=16)\n",
        "\n",
        "    plt.show()"
      ],
      "execution_count": 0,
      "outputs": []
    },
    {
      "cell_type": "code",
      "metadata": {
        "id": "Xz6FQeU91ejA",
        "colab_type": "code",
        "colab": {}
      },
      "source": [
        "def graph_us():\n",
        "    fig = plt.figure(figsize=(9, 9))\n",
        "    ax = fig.add_subplot()\n",
        "    axes = fig.add_axes()\n",
        "    title = \"US Wildfires 1984 - 2018\"\n",
        "    plt.plot(us_fires)\n",
        "    plt.title(title,fontsize=20)\n",
        "    plt.xlabel('Year',fontsize=16)\n",
        "    ax.set_xticklabels(['1984','','1988','','1992','','1996','','2000','',\n",
        "                        '2004','','2008','','2012','','2016'], fontsize=10,ha='center')    \n",
        "    ax.set_xticks(range(0,35,2))\n",
        "    ax.set_yticks(range(0,100000,10000))\n",
        "    plt.ylabel('US Wildfires',fontsize=16)\n",
        "    plt.show()"
      ],
      "execution_count": 0,
      "outputs": []
    },
    {
      "cell_type": "code",
      "metadata": {
        "id": "2bNeA_J05Yrl",
        "colab_type": "code",
        "colab": {}
      },
      "source": [
        "def graph_acres():\n",
        "    fig = plt.figure(figsize=(9, 9))\n",
        "    ax = fig.add_subplot()\n",
        "    axes = fig.add_axes()\n",
        "    title = \"US Acres Burned in Wildfires 1984 - 2018\"\n",
        "    plt.plot(us_fires_acres)\n",
        "    plt.title(title,fontsize=20)\n",
        "    plt.xlabel('Year',fontsize=16)\n",
        "    ax.set_xticklabels(['1984','','1988','','1992','','1996','','2000','',\n",
        "                        '2004','','2008','','2012','','2016'], fontsize=10,ha='center')    \n",
        "    ax.set_xticks(range(0,35,2))\n",
        "    ax.set_yticks(range(0,11000000,1000000))\n",
        "    plt.ylabel('Acres Burned in US Wildfires by Millions',fontsize=16)\n",
        "    plt.show()"
      ],
      "execution_count": 0,
      "outputs": []
    },
    {
      "cell_type": "markdown",
      "metadata": {
        "id": "HnQ2ipU57DHk",
        "colab_type": "text"
      },
      "source": [
        "#Working Copy of Graph Model\n",
        "\n",
        "Replace name of fire to see results from any individual fire within the date set US Forest Service Data - RDS-2019-0005."
      ]
    },
    {
      "cell_type": "code",
      "metadata": {
        "id": "ziAg2-QLXCMT",
        "colab_type": "code",
        "outputId": "420c8e05-6d36-4511-d3fb-a1fc1cd8264d",
        "colab": {
          "base_uri": "https://localhost:8080/",
          "height": 577
        }
      },
      "source": [
        "graph_fire(\"WALL\")"
      ],
      "execution_count": 44,
      "outputs": [
        {
          "output_type": "display_data",
          "data": {
            "image/png": "[encoded data removed]",
            "text/plain": [
              "<Figure size 648x648 with 1 Axes>"
            ]
          },
          "metadata": {
            "tags": []
          }
        }
      ]
    },
    {
      "cell_type": "markdown",
      "metadata": {
        "id": "LPWLTnC-60XZ",
        "colab_type": "text"
      },
      "source": [
        "#Graphed Output of Ancillary Data Set on Wildfires and Acres Burned in US 1984-2018"
      ]
    },
    {
      "cell_type": "code",
      "metadata": {
        "id": "ugzu4efZ1n_6",
        "colab_type": "code",
        "outputId": "558458ee-de25-48af-f6e4-29b116ba3622",
        "colab": {
          "base_uri": "https://localhost:8080/",
          "height": 577
        }
      },
      "source": [
        "graph_us()"
      ],
      "execution_count": 45,
      "outputs": [
        {
          "output_type": "display_data",
          "data": {
            "image/png": "[encoded data removed]",
            "text/plain": [
              "<Figure size 648x648 with 1 Axes>"
            ]
          },
          "metadata": {
            "tags": []
          }
        }
      ]
    },
    {
      "cell_type": "code",
      "metadata": {
        "id": "ynTWzg7n5tAy",
        "colab_type": "code",
        "outputId": "a8700465-f319-4075-b053-14bbd8d48abc",
        "colab": {
          "base_uri": "https://localhost:8080/",
          "height": 577
        }
      },
      "source": [
        "graph_acres()"
      ],
      "execution_count": 46,
      "outputs": [
        {
          "output_type": "display_data",
          "data": {
            "image/png": "[encoded data removed]",
            "text/plain": [
              "<Figure size 648x648 with 1 Axes>"
            ]
          },
          "metadata": {
            "tags": []
          }
        }
      ]
    },
    {
      "cell_type": "markdown",
      "metadata": {
        "id": "l5Z-NYL36Slw",
        "colab_type": "text"
      },
      "source": [
        "#Graphed Output of All Fires in Data Set US Forest Service Data - RDS-2019-0005"
      ]
    },
    {
      "cell_type": "code",
      "metadata": {
        "id": "SC391NrBeVtY",
        "colab_type": "code",
        "outputId": "70717592-5d33-4523-caea-96e094467ac2",
        "colab": {
          "base_uri": "https://localhost:8080/",
          "height": 1000
        }
      },
      "source": [
        "for value in fires:\n",
        "  graph_fire(value)"
      ],
      "execution_count": 47,
      "outputs": [
        {
          "output_type": "display_data",
          "data": {
            "image/png": "[encoded data removed]",
            "text/plain": [
              "<Figure size 648x648 with 1 Axes>"
            ]
          },
          "metadata": {
            "tags": []
          }
        },
        {
          "output_type": "display_data",
          "data": {
            "image/png": "[encoded data removed]",
            "text/plain": [
              "<Figure size 648x648 with 1 Axes>"
            ]
          },
          "metadata": {
            "tags": []
          }
        },
        {
          "output_type": "display_data",
          "data": {
            "image/png": "[encoded data removed]",
            "text/plain": [
              "<Figure size 648x648 with 1 Axes>"
            ]
          },
          "metadata": {
            "tags": []
          }
        },
        {
          "output_type": "display_data",
          "data": {
            "image/png": "[encoded data removed]",
            "text/plain": [
              "<Figure size 648x648 with 1 Axes>"
            ]
          },
          "metadata": {
            "tags": []
          }
        },
        {
          "output_type": "display_data",
          "data": {
            "image/png": "[encoded data removed]",
            "text/plain": [
              "<Figure size 648x648 with 1 Axes>"
            ]
          },
          "metadata": {
            "tags": []
          }
        },
        {
          "output_type": "display_data",
          "data": {
            "image/png": "[encoded data removed]",
            "text/plain": [
              "<Figure size 648x648 with 1 Axes>"
            ]
          },
          "metadata": {
            "tags": []
          }
        },
        {
          "output_type": "display_data",
          "data": {
            "image/png": "[encoded data removed]",
            "text/plain": [
              "<Figure size 648x648 with 1 Axes>"
            ]
          },
          "metadata": {
            "tags": []
          }
        },
        {
          "output_type": "display_data",
          "data": {
            "image/png": "[encoded data removed]",
            "text/plain": [
              "<Figure size 648x648 with 1 Axes>"
            ]
          },
          "metadata": {
            "tags": []
          }
        },
        {
          "output_type": "display_data",
          "data": {
            "image/png": "[encoded data removed]",
            "text/plain": [
              "<Figure size 648x648 with 1 Axes>"
            ]
          },
          "metadata": {
            "tags": []
          }
        },
        {
          "output_type": "display_data",
          "data": {
            "image/png": "[encoded data removed]",
            "text/plain": [
              "<Figure size 648x648 with 1 Axes>"
            ]
          },
          "metadata": {
            "tags": []
          }
        },
        {
          "output_type": "display_data",
          "data": {
            "image/png": "[encoded data removed]",
            "text/plain": [
              "<Figure size 648x648 with 1 Axes>"
            ]
          },
          "metadata": {
            "tags": []
          }
        },
        {
          "output_type": "display_data",
          "data": {
            "image/png": "[encoded data removed]",
            "text/plain": [
              "<Figure size 648x648 with 1 Axes>"
            ]
          },
          "metadata": {
            "tags": []
          }
        },
        {
          "output_type": "display_data",
          "data": {
            "image/png": "[encoded data removed]",
            "text/plain": [
              "<Figure size 648x648 with 1 Axes>"
            ]
          },
          "metadata": {
            "tags": []
          }
        },
        {
          "output_type": "display_data",
          "data": {
            "image/png": "[encoded data removed]",
            "text/plain": [
              "<Figure size 648x648 with 1 Axes>"
            ]
          },
          "metadata": {
            "tags": []
          }
        },
        {
          "output_type": "display_data",
          "data": {
            "image/png": "[encoded data removed]",
            "text/plain": [
              "<Figure size 648x648 with 1 Axes>"
            ]
          },
          "metadata": {
            "tags": []
          }
        },
        {
          "output_type": "display_data",
          "data": {
            "image/png": "[encoded data removed]",
            "text/plain": [
              "<Figure size 648x648 with 1 Axes>"
            ]
          },
          "metadata": {
            "tags": []
          }
        },
        {
          "output_type": "display_data",
          "data": {
            "image/png": "[encoded data removed]",
            "text/plain": [
              "<Figure size 648x648 with 1 Axes>"
            ]
          },
          "metadata": {
            "tags": []
          }
        },
        {
          "output_type": "display_data",
          "data": {
            "image/png": "[encoded data removed]",
            "text/plain": [
              "<Figure size 648x648 with 1 Axes>"
            ]
          },
          "metadata": {
            "tags": []
          }
        }
      ]
    },
    {
      "cell_type": "markdown",
      "metadata": {
        "id": "YMlBOvBe9CeU",
        "colab_type": "text"
      },
      "source": [
        "#Conclusions\n",
        "\n",
        "1. When looking at the fire incidents across the entire United States it seems clear that while the number of random wildfires, a result of lightning strikes (for instance Alaska can get approximately 8k+ lightning strikes in a 24 hour period) or arson has remained roughly consistent over the last few decades. However during that same period there seems to be a marked increase in the number of acres burned per year. This deserves further study.\n",
        "\n",
        "2. The NBR data across a number of wildfires studied shows interesting results. The Simi fire for example took place in an area well within the wildland / urban interface. The area contains hundreds of acres of concrete, thousands of structures, and is heavily built out compared to other areas in the data set. As a result it's to be expected that the NBR numbers prior to the burn would be relatively low denoting relatively low amount of biomass. After the fires in the study the biomass never recovers as shown in the data. This is also not surprising as in an urban area where people live fires usually involve rebuilding which rarely see an increase in biomass.\n",
        "\n",
        "3. The Ricco fire in South Dakota on the other hand happened just outside of Rapid City in a rugged high altitude area with little if any human involvement outside of activities focused purely on nature. World class fishing and hiking can be found in these areas and the inhabits of the surrounding areas gain both access to these resources plus income derived from these resources staying intact. As a result the NBR data shows a very high level of biomass in the fire area followed by a relatively quick rebuilding of the biomass, due in no small part to the surrounding community supporting the regrowth of biomass. The difference is quite stark when compared to the data from the Simi Valley fire in California.\n",
        "\n",
        "In short I hope to do more research in this area. I am fascinated by the results this simple analysis has shown and eager to learn more."
      ]
    }
  ]
}